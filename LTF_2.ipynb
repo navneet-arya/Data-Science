{
 "cells": [
  {
   "cell_type": "code",
   "execution_count": 1,
   "metadata": {},
   "outputs": [],
   "source": [
    "# importing lib \n",
    "\n",
    "import pandas as pd\n",
    "import numpy as np\n",
    "import seaborn as sna\n",
    "import matplotlib.pyplot as plt\n",
    "%matplotlib inline\n",
    "import warnings\n",
    "warnings.filterwarnings(\"ignore\")\n",
    "from sklearn.metrics import accuracy_score\n",
    "\n",
    "# Reading the data\n",
    "train = pd.read_csv(\"train.csv\")\n",
    "test = pd.read_csv(\"test.csv\")\n",
    "test_original=test.copy()\n",
    "train_original = train.copy()"
   ]
  },
  {
   "cell_type": "code",
   "execution_count": 2,
   "metadata": {},
   "outputs": [
    {
     "data": {
      "text/plain": [
       "((233154, 41), (112392, 40))"
      ]
     },
     "execution_count": 2,
     "metadata": {},
     "output_type": "execute_result"
    }
   ],
   "source": [
    "# Null value only present in the Employment.Type\n",
    "train['Employment.Type'].fillna(train['Employment.Type'].mode()[0],inplace=True)\n",
    "test['Employment.Type'].fillna(test['Employment.Type'].mode()[0],inplace=True)\n",
    "\n",
    "train.shape,test.shape"
   ]
  },
  {
   "cell_type": "code",
   "execution_count": 2,
   "metadata": {},
   "outputs": [],
   "source": [
    "# convert years and months into months and store in the same columns :AVERAGE.ACCT.AGE\n",
    "import re\n",
    "def cal_month(file,col_name):\n",
    "    clean=[]\n",
    "    for each in file[col_name]:  # 'AVERAGE.ACCT.AGE'\n",
    "        w=re.findall(r'\\d+',each)\n",
    "        month=int(w[0])*12+int(w[1])\n",
    "        clean.append(month)\n",
    "    file[col_name]=clean\n",
    "\n",
    "cal_month(train,'AVERAGE.ACCT.AGE')\n",
    "cal_month(train,'CREDIT.HISTORY.LENGTH')\n",
    "cal_month(test,'AVERAGE.ACCT.AGE')\n",
    "cal_month(test,'CREDIT.HISTORY.LENGTH')"
   ]
  },
  {
   "cell_type": "code",
   "execution_count": 4,
   "metadata": {},
   "outputs": [],
   "source": [
    "# Treatement of outlier and unproper distribution \n",
    "train['disbursed_amount_log']=np.log(train['disbursed_amount'])\n",
    "test['disbursed_amount_log']=np.log(test['disbursed_amount'])\n",
    "\n",
    "# similarly for asset_cost\n",
    "train['asset_cost_log']=np.log(train['asset_cost'])\n",
    "test['asset_cost_log']=np.log(test['asset_cost'])"
   ]
  },
  {
   "cell_type": "code",
   "execution_count": 5,
   "metadata": {},
   "outputs": [],
   "source": [
    "def cal_age(file,col_name):\n",
    "    date=[]\n",
    "    for each in file[col_name]:   # 'Date.of.Birth'\n",
    "        w=re.findall(r'\\d+',each)\n",
    "        old_age='19'+w[2]\n",
    "        age=2018-int(old_age)\n",
    "        date.append(age)\n",
    "    file['Age']=date\n",
    "\n",
    "cal_age(train,'Date.of.Birth')\n",
    "cal_age(test,'Date.of.Birth')"
   ]
  },
  {
   "cell_type": "code",
   "execution_count": 6,
   "metadata": {},
   "outputs": [],
   "source": [
    "# train['Employment.Type']=train['Employment.Type'].map({'Self employed':0,'Salaried':1})\n",
    "# test['Employment.Type']=test['Employment.Type'].map({'Self employed':0,'Salaried':1})"
   ]
  },
  {
   "cell_type": "code",
   "execution_count": 16,
   "metadata": {},
   "outputs": [
    {
     "data": {
      "text/html": [
       "<div>\n",
       "<style scoped>\n",
       "    .dataframe tbody tr th:only-of-type {\n",
       "        vertical-align: middle;\n",
       "    }\n",
       "\n",
       "    .dataframe tbody tr th {\n",
       "        vertical-align: top;\n",
       "    }\n",
       "\n",
       "    .dataframe thead th {\n",
       "        text-align: right;\n",
       "    }\n",
       "</style>\n",
       "<table border=\"1\" class=\"dataframe\">\n",
       "  <thead>\n",
       "    <tr style=\"text-align: right;\">\n",
       "      <th></th>\n",
       "      <th>ltv</th>\n",
       "      <th>loan_default</th>\n",
       "      <th>disbursed_amount_log</th>\n",
       "      <th>asset_cost_log</th>\n",
       "      <th>Age</th>\n",
       "      <th>total.no.of.accts</th>\n",
       "      <th>total.active.accts</th>\n",
       "      <th>total.overdue.accts</th>\n",
       "      <th>total.current.balance</th>\n",
       "      <th>total.sanctioned.amount</th>\n",
       "      <th>total.disbursed.amount</th>\n",
       "      <th>total.instal.amt</th>\n",
       "    </tr>\n",
       "  </thead>\n",
       "  <tbody>\n",
       "    <tr>\n",
       "      <th>0</th>\n",
       "      <td>89.55</td>\n",
       "      <td>0</td>\n",
       "      <td>10.831272</td>\n",
       "      <td>10.975071</td>\n",
       "      <td>34</td>\n",
       "      <td>0</td>\n",
       "      <td>0</td>\n",
       "      <td>0</td>\n",
       "      <td>0</td>\n",
       "      <td>0</td>\n",
       "      <td>0</td>\n",
       "      <td>0</td>\n",
       "    </tr>\n",
       "    <tr>\n",
       "      <th>1</th>\n",
       "      <td>73.23</td>\n",
       "      <td>1</td>\n",
       "      <td>10.760983</td>\n",
       "      <td>11.090568</td>\n",
       "      <td>33</td>\n",
       "      <td>1</td>\n",
       "      <td>1</td>\n",
       "      <td>1</td>\n",
       "      <td>27600</td>\n",
       "      <td>50200</td>\n",
       "      <td>50200</td>\n",
       "      <td>1991</td>\n",
       "    </tr>\n",
       "    <tr>\n",
       "      <th>2</th>\n",
       "      <td>89.63</td>\n",
       "      <td>0</td>\n",
       "      <td>10.883279</td>\n",
       "      <td>11.024513</td>\n",
       "      <td>33</td>\n",
       "      <td>0</td>\n",
       "      <td>0</td>\n",
       "      <td>0</td>\n",
       "      <td>0</td>\n",
       "      <td>0</td>\n",
       "      <td>0</td>\n",
       "      <td>0</td>\n",
       "    </tr>\n",
       "    <tr>\n",
       "      <th>3</th>\n",
       "      <td>88.48</td>\n",
       "      <td>1</td>\n",
       "      <td>10.959766</td>\n",
       "      <td>11.099121</td>\n",
       "      <td>25</td>\n",
       "      <td>3</td>\n",
       "      <td>0</td>\n",
       "      <td>0</td>\n",
       "      <td>0</td>\n",
       "      <td>0</td>\n",
       "      <td>0</td>\n",
       "      <td>31</td>\n",
       "    </tr>\n",
       "    <tr>\n",
       "      <th>4</th>\n",
       "      <td>88.39</td>\n",
       "      <td>1</td>\n",
       "      <td>10.866242</td>\n",
       "      <td>11.007087</td>\n",
       "      <td>41</td>\n",
       "      <td>0</td>\n",
       "      <td>0</td>\n",
       "      <td>0</td>\n",
       "      <td>0</td>\n",
       "      <td>0</td>\n",
       "      <td>0</td>\n",
       "      <td>0</td>\n",
       "    </tr>\n",
       "  </tbody>\n",
       "</table>\n",
       "</div>"
      ],
      "text/plain": [
       "     ltv  loan_default  disbursed_amount_log  asset_cost_log  Age  \\\n",
       "0  89.55             0             10.831272       10.975071   34   \n",
       "1  73.23             1             10.760983       11.090568   33   \n",
       "2  89.63             0             10.883279       11.024513   33   \n",
       "3  88.48             1             10.959766       11.099121   25   \n",
       "4  88.39             1             10.866242       11.007087   41   \n",
       "\n",
       "   total.no.of.accts  total.active.accts  total.overdue.accts  \\\n",
       "0                  0                   0                    0   \n",
       "1                  1                   1                    1   \n",
       "2                  0                   0                    0   \n",
       "3                  3                   0                    0   \n",
       "4                  0                   0                    0   \n",
       "\n",
       "   total.current.balance  total.sanctioned.amount  total.disbursed.amount  \\\n",
       "0                      0                        0                       0   \n",
       "1                  27600                    50200                   50200   \n",
       "2                      0                        0                       0   \n",
       "3                      0                        0                       0   \n",
       "4                      0                        0                       0   \n",
       "\n",
       "   total.instal.amt  \n",
       "0                 0  \n",
       "1              1991  \n",
       "2                 0  \n",
       "3                31  \n",
       "4                 0  "
      ]
     },
     "execution_count": 16,
     "metadata": {},
     "output_type": "execute_result"
    }
   ],
   "source": [
    "train.head()"
   ]
  },
  {
   "cell_type": "code",
   "execution_count": 6,
   "metadata": {},
   "outputs": [],
   "source": [
    "train['total.no.of.accts']=train['PRI.NO.OF.ACCTS']+train['SEC.NO.OF.ACCTS']\n",
    "train['total.active.accts']=train['PRI.ACTIVE.ACCTS']+train['SEC.ACTIVE.ACCTS']\n",
    "train['total.overdue.accts']=train['PRI.OVERDUE.ACCTS']+train['SEC.OVERDUE.ACCTS']\n",
    "train['total.current.balance']=train['PRI.CURRENT.BALANCE']+train['SEC.CURRENT.BALANCE']\n",
    "train['total.sanctioned.amount']=train['PRI.SANCTIONED.AMOUNT']+train['SEC.SANCTIONED.AMOUNT']\n",
    "train['total.disbursed.amount']=train['PRI.DISBURSED.AMOUNT']+train['SEC.DISBURSED.AMOUNT']\n",
    "train['total.instal.amt']=train['PRIMARY.INSTAL.AMT']+train['SEC.INSTAL.AMT']\n",
    "\n",
    "\n",
    "test['total.no.of.accts']=test['PRI.NO.OF.ACCTS']+test['SEC.NO.OF.ACCTS']\n",
    "test['total.active.accts']=test['PRI.ACTIVE.ACCTS']+test['SEC.ACTIVE.ACCTS']\n",
    "test['total.overdue.accts']=test['PRI.OVERDUE.ACCTS']+test['SEC.OVERDUE.ACCTS']\n",
    "test['total.current.balance']=test['PRI.CURRENT.BALANCE']+test['SEC.CURRENT.BALANCE']\n",
    "test['total.sanctioned.amount']=test['PRI.SANCTIONED.AMOUNT']+test['SEC.SANCTIONED.AMOUNT']\n",
    "test['total.disbursed.amount']=test['PRI.DISBURSED.AMOUNT']+test['SEC.DISBURSED.AMOUNT']\n",
    "test['total.instal.amt']=test['PRIMARY.INSTAL.AMT']+test['SEC.INSTAL.AMT']"
   ]
  },
  {
   "cell_type": "code",
   "execution_count": 7,
   "metadata": {},
   "outputs": [],
   "source": [
    "# 'UniqueID','disbursed_amount', 'asset_cost','Date.of.Birth','DisbursalDate','Aadhar_flag', 'PAN_flag'\n",
    "#        'MobileNo_Avl_Flag','VoterID_flag','Driving_flag', 'Passport_flag','loan_default','PRI.NO.OF.ACCTS')\n",
    "list_del=['UniqueID','disbursed_amount', 'asset_cost','Date.of.Birth','DisbursalDate','Aadhar_flag', 'PAN_flag',\n",
    "          'VoterID_flag','Driving_flag', 'Passport_flag', 'PERFORM_CNS.SCORE.DESCRIPTION', 'PRI.NO.OF.ACCTS', 'PRI.ACTIVE.ACCTS',\n",
    "       'PRI.OVERDUE.ACCTS', 'PRI.CURRENT.BALANCE', 'PRI.SANCTIONED.AMOUNT',\n",
    "       'PRI.DISBURSED.AMOUNT', 'SEC.NO.OF.ACCTS', 'SEC.ACTIVE.ACCTS',\n",
    "       'SEC.OVERDUE.ACCTS', 'SEC.CURRENT.BALANCE', 'SEC.SANCTIONED.AMOUNT',\n",
    "       'SEC.DISBURSED.AMOUNT', 'PRIMARY.INSTAL.AMT', 'SEC.INSTAL.AMT','MobileNo_Avl_Flag','Current_pincode_ID',\n",
    "         'State_ID', 'Employee_code_ID', 'branch_id', 'supplier_id', 'manufacturer_id','NEW.ACCTS.IN.LAST.SIX.MONTHS', \n",
    "          'DELINQUENT.ACCTS.IN.LAST.SIX.MONTHS','Employment.Type','NO.OF_INQUIRIES', 'PERFORM_CNS.SCORE',\n",
    "          'AVERAGE.ACCT.AGE', 'CREDIT.HISTORY.LENGTH']\n",
    "for each in list_del:\n",
    "    train=train.drop(each,axis=1)\n",
    "for each_ in list_del:\n",
    "    test=test.drop(each_,axis=1)"
   ]
  },
  {
   "cell_type": "code",
   "execution_count": 8,
   "metadata": {},
   "outputs": [],
   "source": [
    "# Split the cell\n",
    "X=train.drop('loan_default',1)\n",
    "y=train.loan_default\n",
    "\n",
    "\n",
    "#Creating Dummy variable\n",
    "X=pd.get_dummies(X)\n",
    "test=pd.get_dummies(test)"
   ]
  },
  {
   "cell_type": "code",
   "execution_count": 9,
   "metadata": {},
   "outputs": [],
   "source": [
    "from sklearn.model_selection import train_test_split\n",
    "from sklearn.linear_model import LogisticRegression \n",
    "from sklearn.metrics import accuracy_score\n",
    "\n",
    "# Reading submission file\n",
    "submission=pd.read_csv(\"sample_submission_24jSKY6.csv\")\n",
    "x_train, x_cv, y_train, y_cv = train_test_split(X,y, test_size =0.2)\n",
    "\n",
    "# from sklearn.preprocessing import StandardScaler\n",
    "# sc_X=StandardScaler()\n",
    "# x_train=sc_X.fit_transform(x_train)\n",
    "# x_cv=sc_X.transform(x_cv)"
   ]
  },
  {
   "cell_type": "code",
   "execution_count": 32,
   "metadata": {},
   "outputs": [
    {
     "data": {
      "text/plain": [
       "Index(['ltv', 'loan_default', 'disbursed_amount_log', 'asset_cost_log', 'Age',\n",
       "       'total.no.of.accts', 'total.active.accts', 'total.overdue.accts',\n",
       "       'total.current.balance', 'total.sanctioned.amount',\n",
       "       'total.disbursed.amount', 'total.instal.amt'],\n",
       "      dtype='object')"
      ]
     },
     "execution_count": 32,
     "metadata": {},
     "output_type": "execute_result"
    }
   ],
   "source": [
    "train.columns"
   ]
  },
  {
   "cell_type": "code",
   "execution_count": 10,
   "metadata": {},
   "outputs": [
    {
     "name": "stderr",
     "output_type": "stream",
     "text": [
      "/home/arya/.local/lib/python3.5/site-packages/sklearn/ensemble/weight_boosting.py:29: DeprecationWarning: numpy.core.umath_tests is an internal NumPy module and should not be imported. It will be removed in a future NumPy release.\n",
      "  from numpy.core.umath_tests import inner1d\n"
     ]
    }
   ],
   "source": [
    "from sklearn.ensemble import RandomForestClassifier\n",
    "# classifier = RandomForestClassifier(random_state=1,max_depth=16,n_estimators=101)\n",
    "# classifier.fit(x_train,y_train)\n",
    "# pred_test = classifier.predict(x_cv)\n",
    "# score=accuracy_score(y_cv,pred_test)\n",
    "# print('accuracy_score',score)"
   ]
  },
  {
   "cell_type": "code",
   "execution_count": 11,
   "metadata": {},
   "outputs": [
    {
     "name": "stdout",
     "output_type": "stream",
     "text": [
      "\n",
      "1 of kfold 5\n",
      "accuracy_score 0.7828315319951964\n",
      "\n",
      "2 of kfold 5\n",
      "accuracy_score 0.7826767600952156\n",
      "\n",
      "3 of kfold 5\n",
      "accuracy_score 0.782848319787266\n",
      "\n",
      "4 of kfold 5\n",
      "accuracy_score 0.7826292086639502\n",
      "\n",
      "5 of kfold 5\n",
      "accuracy_score 0.7830152262491958\n"
     ]
    }
   ],
   "source": [
    "# Logistic Regression using StratifiedKFold\n",
    "from sklearn.model_selection import StratifiedKFold\n",
    "\n",
    "\n",
    "# cross validation logistic model with stratified 5 folds\n",
    "i=1\n",
    "kf=StratifiedKFold(n_splits=5,shuffle=True)\n",
    "\n",
    "for train_index,test_index in kf.split(X,y):\n",
    "    print('\\n{} of kfold {}'.format(i,kf.n_splits))\n",
    "    xtr,xvl = X.loc[train_index],X.loc[test_index]\n",
    "    ytr,yvl = y[train_index],y[test_index]\n",
    "    classifier = RandomForestClassifier(random_state=1,max_depth=16,n_estimators=101)\n",
    "    classifier.fit(xtr,ytr)\n",
    "    pred_test = classifier.predict(xvl)\n",
    "    score=accuracy_score(yvl,pred_test)\n",
    "    print('accuracy_score',score)\n",
    "    i+=1\n",
    "    pred_test=classifier.predict(test)\n",
    "    pred=classifier.predict_proba(xvl)[:,1]\n",
    "\n",
    "submission['loan_default']=pred_test   # filling Loan_Status with predictions\n",
    "submission['UniqueID']=test_original['UniqueID']   # filling Loan_ID with test Loan_ID\n",
    "\n",
    "# replacing 0 and 1 with N and Y \n",
    "# submission['loan_default'].replace(0, 'N',inplace=True) \n",
    "# submission['loan_default'].replace(1, 'Y',inplace=True)\n",
    "\n",
    "# Converting submission file to .csv format \n",
    "pd.DataFrame(submission, columns=['UniqueID','loan_default']).to_csv('random1.csv',index=False)"
   ]
  },
  {
   "cell_type": "code",
   "execution_count": null,
   "metadata": {},
   "outputs": [],
   "source": [
    "from sklearn.model_selection import GridSearchCV\n",
    "\n",
    "paramgrid={'max_depth':list(range(14,20,1)),'n_estimators':list(range(90,120,2))}\n",
    "grid_search=GridSearchCV(estimator=classifier,\n",
    "                         param_grid=paramgrid,\n",
    "                         scoring = 'accuracy',\n",
    "                         cv = 6,\n",
    "                         n_jobs = -1)\n",
    "\n",
    "grid_search = grid_search.fit(x_train,y_train)\n",
    "best_accuracy = grid_search.best_score_\n",
    "best_parameters = grid_search.best_params_\n",
    "print(best_accuracy)\n",
    "print(best_parameters)\n"
   ]
  }
 ],
 "metadata": {
  "kernelspec": {
   "display_name": "Python 3",
   "language": "python",
   "name": "python3"
  },
  "language_info": {
   "codemirror_mode": {
    "name": "ipython",
    "version": 3
   },
   "file_extension": ".py",
   "mimetype": "text/x-python",
   "name": "python",
   "nbconvert_exporter": "python",
   "pygments_lexer": "ipython3",
   "version": "3.5.2"
  }
 },
 "nbformat": 4,
 "nbformat_minor": 2
}
