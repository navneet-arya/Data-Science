{
 "cells": [
  {
   "cell_type": "code",
   "execution_count": 1,
   "metadata": {},
   "outputs": [],
   "source": [
    "# Importing the lib\n",
    "import numpy as np\n",
    "import pandas as pd\n",
    "import matplotlib.pyplot as plt\n",
    "import lightgbm as lgb\n",
    "import seaborn as sns\n",
    "from sklearn.model_selection import train_test_split,KFold"
   ]
  },
  {
   "cell_type": "code",
   "execution_count": 2,
   "metadata": {},
   "outputs": [],
   "source": [
    "train = pd.read_csv('train.csv')\n",
    "test = pd.read_csv('test.csv')"
   ]
  },
  {
   "cell_type": "code",
   "execution_count": 3,
   "metadata": {},
   "outputs": [],
   "source": [
    "train_original = pd.read_csv('train.csv')\n",
    "test_original = pd.read_csv('test.csv')"
   ]
  },
  {
   "cell_type": "code",
   "execution_count": 4,
   "metadata": {},
   "outputs": [],
   "source": [
    "y_train = train['amount_spent_per_room_night_scaled']"
   ]
  },
  {
   "cell_type": "code",
   "execution_count": 5,
   "metadata": {},
   "outputs": [],
   "source": [
    "# drop un-necessary col\n",
    "train.drop(['reservation_id','memberid'],axis=1,inplace=True)\n",
    "test.drop(['reservation_id','memberid'],axis=1,inplace=True)"
   ]
  },
  {
   "cell_type": "code",
   "execution_count": 6,
   "metadata": {},
   "outputs": [],
   "source": [
    "# Adding number of days stay in hotel\n",
    "from datetime import date\n",
    "days_train=[]\n",
    "days_test=[]\n",
    "for d1,d2 in zip(train['checkin_date'],train['checkout_date']):\n",
    "    d1_years='20'+d1[6:]\n",
    "    d2_years='20'+d2[6:]\n",
    "    d1_mon = d1[3:5]\n",
    "    d2_mon = d2[3:5]\n",
    "    d1_day = d1[:2]\n",
    "    d2_day= d2[:2]\n",
    "    d1_ = date(int(d1_years),int(d1_mon),int(d1_day))\n",
    "    d2_ = date(int(d2_years),int(d1_mon),int(d1_day))\n",
    "    delta = d2_ - d1_\n",
    "    days_train.append(delta.days)\n",
    "train['no. of days']=days_train\n",
    "\n",
    "for d1,d2 in zip(test['checkin_date'],test['checkout_date']):\n",
    "    d1_years='20'+d1[6:]\n",
    "    d2_years='20'+d2[6:]\n",
    "    d1_mon = d1[3:5]\n",
    "    d2_mon = d2[3:5]\n",
    "    d1_day = d1[:2]\n",
    "    d2_day= d2[:2]\n",
    "    d1_ = date(int(d1_years),int(d1_mon),int(d1_day))\n",
    "    d2_ = date(int(d2_years),int(d1_mon),int(d1_day))\n",
    "    delta = d2_ - d1_\n",
    "    days_test.append(delta.days)\n",
    "test['no. of days']=days_test"
   ]
  },
  {
   "cell_type": "code",
   "execution_count": 7,
   "metadata": {},
   "outputs": [],
   "source": [
    "# Extracting the months and year from the date col\n",
    "import re\n",
    "def extract_mo_yr(file,col_name):\n",
    "    mo=[]\n",
    "    yr=[]\n",
    "    new_col_name_mo = col_name + '_month'\n",
    "    new_col_name_yr = col_name + '_year'\n",
    "    for each in file[col_name]:\n",
    "        w=re.findall(r'\\d+',each)\n",
    "        mo.append(int(w[1]))\n",
    "        yr.append(int(w[2]))\n",
    "    file[new_col_name_mo]=mo\n",
    "    file[new_col_name_yr]=yr\n",
    "    file.drop(col_name,axis=1,inplace=True)\n",
    "\n",
    "extract_mo_yr(train,'booking_date')\n",
    "extract_mo_yr(train,'checkin_date')\n",
    "extract_mo_yr(train,'checkout_date')\n",
    "extract_mo_yr(test,'booking_date')\n",
    "extract_mo_yr(test,'checkin_date')\n",
    "extract_mo_yr(test,'checkout_date')"
   ]
  },
  {
   "cell_type": "code",
   "execution_count": 8,
   "metadata": {},
   "outputs": [
    {
     "data": {
      "text/plain": [
       "Index(['channel_code', 'main_product_code', 'numberofadults',\n",
       "       'numberofchildren', 'persontravellingid', 'resort_region_code',\n",
       "       'resort_type_code', 'room_type_booked_code', 'roomnights',\n",
       "       'season_holidayed_code', 'state_code_residence', 'state_code_resort',\n",
       "       'total_pax', 'member_age_buckets', 'booking_type_code', 'cluster_code',\n",
       "       'reservationstatusid_code', 'resort_id',\n",
       "       'amount_spent_per_room_night_scaled', 'no. of days',\n",
       "       'booking_date_month', 'booking_date_year', 'checkin_date_month',\n",
       "       'checkin_date_year', 'checkout_date_month', 'checkout_date_year'],\n",
       "      dtype='object')"
      ]
     },
     "execution_count": 8,
     "metadata": {},
     "output_type": "execute_result"
    }
   ],
   "source": [
    "train.columns"
   ]
  },
  {
   "cell_type": "code",
   "execution_count": 9,
   "metadata": {},
   "outputs": [
    {
     "data": {
      "text/plain": [
       "channel_code                            int64\n",
       "main_product_code                       int64\n",
       "numberofadults                          int64\n",
       "numberofchildren                        int64\n",
       "persontravellingid                      int64\n",
       "resort_region_code                      int64\n",
       "resort_type_code                        int64\n",
       "room_type_booked_code                   int64\n",
       "roomnights                              int64\n",
       "season_holidayed_code                 float64\n",
       "state_code_residence                  float64\n",
       "state_code_resort                       int64\n",
       "total_pax                               int64\n",
       "member_age_buckets                     object\n",
       "booking_type_code                       int64\n",
       "cluster_code                           object\n",
       "reservationstatusid_code               object\n",
       "resort_id                              object\n",
       "amount_spent_per_room_night_scaled    float64\n",
       "no. of days                             int64\n",
       "booking_date_month                      int64\n",
       "booking_date_year                       int64\n",
       "checkin_date_month                      int64\n",
       "checkin_date_year                       int64\n",
       "checkout_date_month                     int64\n",
       "checkout_date_year                      int64\n",
       "dtype: object"
      ]
     },
     "execution_count": 9,
     "metadata": {},
     "output_type": "execute_result"
    }
   ],
   "source": [
    "train.dtypes"
   ]
  },
  {
   "cell_type": "code",
   "execution_count": 10,
   "metadata": {},
   "outputs": [],
   "source": [
    "# converting categorial data into numerical\n",
    "\n",
    "from sklearn.preprocessing import LabelEncoder\n",
    "\n",
    "le_resort_id = LabelEncoder()\n",
    "train['resort_id'] = le_resort_id.fit_transform(train['resort_id'])\n",
    "test['resort_id'] = le_resort_id.fit_transform(test['resort_id'])"
   ]
  },
  {
   "cell_type": "code",
   "execution_count": 11,
   "metadata": {},
   "outputs": [
    {
     "data": {
      "image/png": "[encoded data removed]",
      "text/plain": [
       "<Figure size 1296x576 with 2 Axes>"
      ]
     },
     "metadata": {},
     "output_type": "display_data"
    }
   ],
   "source": [
    "# analysis of channel code\n",
    "# checking the count of channel code\n",
    "\n",
    "plt.rcParams['figure.figsize'] = (18, 8)\n",
    "plt.subplot(1, 2, 1)\n",
    "sns.countplot(train['channel_code'], palette = 'inferno')\n",
    "plt.title('Most Frequent Channels for Booking', fontsize = 20)\n",
    "\n",
    "# checking dependency of channel code with target\n",
    "\n",
    "plt.subplot(1, 2, 2)\n",
    "sns.lineplot(train['channel_code'], y_train, palette = 'magma')\n",
    "plt.title('Dependency of Channel with Target', fontsize = 20)\n",
    "\n",
    "plt.show()"
   ]
  },
  {
   "cell_type": "code",
   "execution_count": 12,
   "metadata": {},
   "outputs": [
    {
     "data": {
      "text/plain": [
       "3    101361\n",
       "2     37435\n",
       "1      7969\n",
       "Name: main_product_code, dtype: int64"
      ]
     },
     "execution_count": 12,
     "metadata": {},
     "output_type": "execute_result"
    }
   ],
   "source": [
    "# as we can  see that dependency of channel 3 is high then 2 and then 1\n",
    "\n",
    "# applying mean ecoding following the graph\n",
    "# main product code 1 and 2 have huge impact, 3, 6, 7 have good impact and 4, 5 have very less impact\n",
    "# replacing 4, 5 with 1\n",
    "# replacing 3, 6, 7 with 2, and\n",
    "# replacing 1, 2 with 3\n",
    "\n",
    "train['main_product_code'].replace((1, 2, 3, 4, 5, 6, 7), (3, 3, 2, 1, 1, 2, 2), inplace = True)\n",
    "test['main_product_code'].replace((1, 2, 3, 4, 5, 6, 7), (3, 3, 2, 1, 1, 2, 2), inplace = True)\n",
    "\n",
    "# checking the values\n",
    "test['main_product_code'].value_counts()"
   ]
  },
  {
   "cell_type": "code",
   "execution_count": 13,
   "metadata": {},
   "outputs": [
    {
     "name": "stdout",
     "output_type": "stream",
     "text": [
      "1    338909\n",
      "2      2361\n",
      "3       154\n",
      "Name: numberofadults, dtype: int64\n",
      "1    145673\n",
      "2      1011\n",
      "3        81\n",
      "Name: numberofadults, dtype: int64\n"
     ]
    }
   ],
   "source": [
    "# as we can see that there is a pattern which says that the spending score increases for no. of adults 1 to 10, but it is very confusing for 10-30 and vey high for 32\n",
    "# so we can make 3 groups no. of adults 1-10, 11-20, 21+\n",
    "\n",
    "def groups(numberofadults):\n",
    "  if numberofadults <= 10:\n",
    "    return 1\n",
    "  if numberofadults <= 20 and numberofadults > 10:\n",
    "    return 2\n",
    "  else:\n",
    "    return 3\n",
    "\n",
    "\n",
    "train['numberofadults'] = train.apply(lambda x: groups(x['numberofadults']), axis = 1)\n",
    "test['numberofadults'] = test.apply(lambda x: groups(x['numberofadults']), axis = 1)\n",
    "\n",
    "print(train['numberofadults'].value_counts())\n",
    "print(test['numberofadults'].value_counts())"
   ]
  },
  {
   "cell_type": "code",
   "execution_count": 14,
   "metadata": {},
   "outputs": [
    {
     "name": "stdout",
     "output_type": "stream",
     "text": [
      "1    340975\n",
      "2       432\n",
      "3        17\n",
      "Name: numberofchildren, dtype: int64\n",
      "1    146564\n",
      "2       192\n",
      "3         9\n",
      "Name: numberofchildren, dtype: int64\n"
     ]
    }
   ],
   "source": [
    "# as we can see that there is a pattern which says that the spending score increases for no. of children 1 to 10, but it is very confusing for 10-30 and vey high for 32\n",
    "# so we can make 3 groups no. of adults 1-10, 11-20, 21+\n",
    "\n",
    "def groups(numberofchildren):\n",
    "  if numberofchildren <= 4:\n",
    "    return 1\n",
    "  if numberofchildren <= 8 and numberofchildren > 4:\n",
    "    return 2\n",
    "  else:\n",
    "    return 3\n",
    "\n",
    "\n",
    "train['numberofchildren'] = train.apply(lambda x: groups(x['numberofchildren']), axis = 1)\n",
    "test['numberofchildren'] = test.apply(lambda x: groups(x['numberofchildren']), axis = 1)\n",
    "\n",
    "print(train['numberofchildren'].value_counts())\n",
    "print(test['numberofchildren'].value_counts())"
   ]
  },
  {
   "cell_type": "code",
   "execution_count": 15,
   "metadata": {},
   "outputs": [
    {
     "name": "stdout",
     "output_type": "stream",
     "text": [
      "3    143790\n",
      "2    131361\n",
      "1     66273\n",
      "Name: resort_region_code, dtype: int64\n",
      "3    61961\n",
      "2    55997\n",
      "1    28807\n",
      "Name: resort_region_code, dtype: int64\n"
     ]
    }
   ],
   "source": [
    "# as from the above graph it is clearly visible that region 1 has huge impact, region 2 has good impact and region 3 has low impact onn amount spent \n",
    "# so let's do target encoding\n",
    "\n",
    "train[\"resort_region_code\"].replace((1, 2, 3), (3, 2, 1), inplace = True)\n",
    "test[\"resort_region_code\"].replace((1, 2, 3), (3, 2, 1), inplace = True)\n",
    "\n",
    "# checking the values \n",
    "print(train['resort_region_code'].value_counts())\n",
    "print(test['resort_region_code'].value_counts())"
   ]
  },
  {
   "cell_type": "code",
   "execution_count": 16,
   "metadata": {},
   "outputs": [
    {
     "data": {
      "text/plain": [
       "3    77378\n",
       "2    43128\n",
       "1    26259\n",
       "Name: resort_type_code, dtype: int64"
      ]
     },
     "execution_count": 16,
     "metadata": {},
     "output_type": "execute_result"
    }
   ],
   "source": [
    "# as from the above graph it is clearly visible that all the seven types of resort different weightage\n",
    "# so let's do target encoding resort type 1, 5 have huge impact, resort no. 4, 2, 5 have good impact and resort type 7 and 3 have poor impact\n",
    "# encoding 5 and 1 as 3\n",
    "# encoding 4, 2, 6 as 2\n",
    "# encoding 7 and 3 as 1\n",
    "\n",
    "train[\"resort_type_code\"].replace((0, 1, 2, 3, 4, 5, 6, 7), (2, 3, 2, 1, 2, 3, 2, 1), inplace = True)\n",
    "test[\"resort_type_code\"].replace((0, 1, 2, 3, 4, 5, 6, 7), (2, 3, 2, 1, 2, 3, 2, 1), inplace = True)\n",
    "\n",
    "# checking the values\n",
    "test['resort_type_code'].value_counts()\n"
   ]
  },
  {
   "cell_type": "code",
   "execution_count": 17,
   "metadata": {},
   "outputs": [
    {
     "data": {
      "text/plain": [
       "1    118842\n",
       "2     27717\n",
       "3       171\n",
       "4        19\n",
       "5        16\n",
       "Name: roomnights, dtype: int64"
      ]
     },
     "execution_count": 17,
     "metadata": {},
     "output_type": "execute_result"
    }
   ],
   "source": [
    "# as we can see that there is a pattern which says that the spending score increases for no. of rooms 1 to 5, but it is very confusing for 10-30 and vey high for 32\n",
    "# so we can make 3 groups no. of adults 1-10, 11-20, 21+\n",
    "\n",
    "def groups(roomnights):\n",
    "  if roomnights <= 5:\n",
    "    return 1\n",
    "  if roomnights <= 20 and roomnights > 5:\n",
    "    return 2\n",
    "  if roomnights <= 30 and roomnights > 20:\n",
    "    return 3\n",
    "  if roomnights <= 40 and roomnights > 30:\n",
    "    return 4\n",
    "  else:\n",
    "    return 5\n",
    "\n",
    "\n",
    "train['roomnights'] = train.apply(lambda x: groups(x['roomnights']), axis = 1)\n",
    "test['roomnights'] = test.apply(lambda x: groups(x['roomnights']), axis = 1)\n",
    "test['roomnights'].value_counts()"
   ]
  },
  {
   "cell_type": "code",
   "execution_count": 18,
   "metadata": {},
   "outputs": [
    {
     "data": {
      "text/plain": [
       "3.0    54093\n",
       "2.0    51453\n",
       "1.0    29889\n",
       "4.0    11295\n",
       "Name: season_holidayed_code, dtype: int64"
      ]
     },
     "execution_count": 18,
     "metadata": {},
     "output_type": "execute_result"
    }
   ],
   "source": [
    "# as from the above graph it is clearly visible that all the four  types of seasons have different impact on the amount spent\n",
    "# let's target encode them \n",
    "# as season holiday code 1 has huge impact , encode it as 4\n",
    "# as season holiday code 2 has huge impact , encode it as 3\n",
    "# as season holiday code 3 has huge impact , encode it as 2\n",
    "# as season holiday code 4 has huge impact , encode it as 1\n",
    "\n",
    "\n",
    "train[\"season_holidayed_code\"].replace((1, 2, 3, 4), (4, 3, 2, 1), inplace = True)\n",
    "test[\"season_holidayed_code\"].replace((1, 2, 3, 4), (4, 3, 2, 1), inplace = True)\n",
    "\n",
    "# checking the values\n",
    "test['season_holidayed_code'].value_counts()"
   ]
  },
  {
   "cell_type": "code",
   "execution_count": 19,
   "metadata": {},
   "outputs": [
    {
     "data": {
      "text/plain": [
       "False"
      ]
     },
     "execution_count": 19,
     "metadata": {},
     "output_type": "execute_result"
    }
   ],
   "source": [
    "# imputing the missing values in state code res.\n",
    "\n",
    "train['state_code_residence'].fillna(train['state_code_residence'].mode()[0], inplace = True)\n",
    "test['state_code_residence'].fillna(test['state_code_residence'].mode()[0], inplace = True)\n",
    "\n",
    "# checking the null values\n",
    "test['state_code_residence'].isnull().any()"
   ]
  },
  {
   "cell_type": "code",
   "execution_count": 20,
   "metadata": {},
   "outputs": [
    {
     "data": {
      "text/plain": [
       "2    91812\n",
       "1    47846\n",
       "3     7107\n",
       "Name: state_code_residence, dtype: int64"
      ]
     },
     "execution_count": 20,
     "metadata": {},
     "output_type": "execute_result"
    }
   ],
   "source": [
    "# let's target encode state code residence according to the above clusters\n",
    "\n",
    "def groups(state_code_residence):\n",
    "    if state_code_residence <= 5:\n",
    "        return 1\n",
    "    if state_code_residence <= 15 and state_code_residence > 5:\n",
    "        return 2\n",
    "    else:\n",
    "        return 3\n",
    " \n",
    "train['state_code_residence'] = train.apply(lambda x: groups(x['state_code_residence']), axis = 1)\n",
    "test['state_code_residence'] = test.apply(lambda x: groups(x['state_code_residence']), axis = 1)\n",
    "\n",
    "# checking the values\n",
    "test['state_code_residence'].value_counts()"
   ]
  },
  {
   "cell_type": "code",
   "execution_count": 21,
   "metadata": {},
   "outputs": [
    {
     "data": {
      "text/plain": [
       "3    65195\n",
       "2    44036\n",
       "1    37534\n",
       "Name: state_code_resort, dtype: int64"
      ]
     },
     "execution_count": 21,
     "metadata": {},
     "output_type": "execute_result"
    }
   ],
   "source": [
    "# as from the above graph it is clearly visible that all the thirteen types of states of resorts have different weightage\n",
    "# so we must target encode them according to the above graph\n",
    "# let's encode state code resorts 13, 12, 6, 7, 1 as 3 as they have huge impact on amount spent\n",
    "# let's encode state code resorts 11, 9, 2, 8 as 2 as they have good impact on amount spent\n",
    "# let's encode state code resorts 5, 10, 3, 4 as 1 as they have poor impact on amount spent\n",
    "\n",
    "\n",
    "train[\"state_code_resort\"].replace((1, 2, 3, 4, 5, 6, 7, 8, 9, 10, 11, 12, 13), (3, 2, 1, 1, 1, 3, 3, 2, 2, 1, 2, 3, 3), inplace = True)\n",
    "test[\"state_code_resort\"].replace((1, 2, 3, 4, 5, 6, 7, 8, 9, 10, 11, 12, 13), (3, 2, 1, 1, 1, 3, 3, 2, 2, 1, 2, 3, 3), inplace = True)\n",
    "\n",
    "# checking the values\n",
    "test['state_code_resort'].value_counts()"
   ]
  },
  {
   "cell_type": "code",
   "execution_count": 22,
   "metadata": {},
   "outputs": [
    {
     "data": {
      "text/plain": [
       "1    141360\n",
       "2      5392\n",
       "3        13\n",
       "Name: total_pax, dtype: int64"
      ]
     },
     "execution_count": 22,
     "metadata": {},
     "output_type": "execute_result"
    }
   ],
   "source": [
    "# as we can see that there is a pattern which says that the spending score increases for total no. of passengers, it increases upto 20 and then decreases.\n",
    "# so we can make 3 groups no. of adults 1-10, 11-20, 21+\n",
    "\n",
    "def groups(total_pax):\n",
    "    if total_pax <= 5:\n",
    "        return 1\n",
    "    if total_pax <= 10 and total_pax > 5:\n",
    "        return 2\n",
    "    if total_pax <= 15 and total_pax > 10:\n",
    "        return 3\n",
    "    if total_pax <= 20 and total_pax > 15:\n",
    "        return 4\n",
    "    else:\n",
    "        return 3\n",
    "\n",
    "\n",
    "train['total_pax'] = train.apply(lambda x: groups(x['total_pax']), axis = 1)\n",
    "test['total_pax'] = test.apply(lambda x: groups(x['total_pax']), axis = 1)\n",
    "\n",
    "test['total_pax'].value_counts()"
   ]
  },
  {
   "cell_type": "code",
   "execution_count": 23,
   "metadata": {},
   "outputs": [
    {
     "data": {
      "text/plain": [
       "10    28941\n",
       "9     28334\n",
       "5     22230\n",
       "8     19584\n",
       "1     16115\n",
       "4     15919\n",
       "3      8130\n",
       "6      3601\n",
       "2      3262\n",
       "7       649\n",
       "Name: member_age_buckets, dtype: int64"
      ]
     },
     "execution_count": 23,
     "metadata": {},
     "output_type": "execute_result"
    }
   ],
   "source": [
    "# label encoding of the member age buckets\n",
    "# lets label A, B, G, H as 1 I, J as 2 and C, D, E, F as 3\n",
    "\n",
    "train['member_age_buckets'].replace(('A', 'B', 'G', 'H'), (2, 3, 4, 1), inplace = True)\n",
    "train['member_age_buckets'].replace(('I', 'J'), (6, 7), inplace = True)\n",
    "train['member_age_buckets'].replace(('C', 'D', 'E', 'F'), (8, 9, 10, 5), inplace = True)\n",
    "\n",
    "train['member_age_buckets'].value_counts()\n",
    "\n",
    "test['member_age_buckets'].replace(('A', 'B', 'G', 'H'), (2, 3, 4, 1), inplace = True)\n",
    "test['member_age_buckets'].replace(('I', 'J'), (6, 7), inplace = True)\n",
    "test['member_age_buckets'].replace(('C', 'D', 'E', 'F'), (8, 9, 10, 5), inplace = True)\n",
    "\n",
    "test['member_age_buckets'].value_counts()"
   ]
  },
  {
   "cell_type": "code",
   "execution_count": 24,
   "metadata": {},
   "outputs": [
    {
     "data": {
      "text/plain": [
       "4    52147\n",
       "5    25531\n",
       "3    24245\n",
       "2    15957\n",
       "6    15795\n",
       "1    13090\n",
       "Name: cluster_code, dtype: int64"
      ]
     },
     "execution_count": 24,
     "metadata": {},
     "output_type": "execute_result"
    }
   ],
   "source": [
    "# target encoding for cluster code\n",
    "\n",
    "train['cluster_code'].replace(('A', 'B', 'C', 'D', 'E', 'F'),(1, 2, 6, 3, 5, 4), inplace = True)\n",
    "\n",
    "train['cluster_code'].value_counts()\n",
    "\n",
    "test['cluster_code'].replace(('A', 'B', 'C', 'D', 'E', 'F'),(1, 2, 6, 3, 5, 4), inplace = True)\n",
    "\n",
    "test['cluster_code'].value_counts()"
   ]
  },
  {
   "cell_type": "code",
   "execution_count": 25,
   "metadata": {},
   "outputs": [
    {
     "data": {
      "text/plain": [
       "2.4    134262\n",
       "2.5      6429\n",
       "2.3      6074\n",
       "Name: reservationstatusid_code, dtype: int64"
      ]
     },
     "execution_count": 25,
     "metadata": {},
     "output_type": "execute_result"
    }
   ],
   "source": [
    "# target encoding for reservation code\n",
    "\n",
    "train['reservationstatusid_code'].replace(('A', 'B', 'C', 'D'), (2.4, 2.5, 2.3, 1), inplace = True)\n",
    "\n",
    "train['reservationstatusid_code'].value_counts()\n",
    "\n",
    "test['reservationstatusid_code'].replace(('A', 'B', 'C', 'D'), (2.4, 2.5, 2.3, 1), inplace = True)\n",
    "\n",
    "test['reservationstatusid_code'].value_counts()"
   ]
  },
  {
   "cell_type": "code",
   "execution_count": 26,
   "metadata": {},
   "outputs": [
    {
     "data": {
      "image/png": "[encoded data removed]",
      "text/plain": [
       "<Figure size 1296x576 with 2 Axes>"
      ]
     },
     "metadata": {},
     "output_type": "display_data"
    }
   ],
   "source": [
    "# analysis of booking year\n",
    "\n",
    "# counting the values of types of reservation status\n",
    "plt.rcParams['figure.figsize'] = (18, 8)\n",
    "plt.subplot(1, 2, 1)\n",
    "sns.countplot(train['booking_date_year'], palette = 'RdYlBu')\n",
    "plt.title('Value counts of Year wise Bookings', fontsize = 20)\n",
    "plt.xticks(rotation = 90)\n",
    "\n",
    "# checking dependency with the target variable\n",
    "plt.subplot(1, 2, 2)\n",
    "sns.lineplot(train['booking_date_year'], y_train, color = 'red')\n",
    "plt.title('Checking Dependency with the Target', fontsize = 20)\n",
    "plt.xticks(rotation = 90)\n",
    "\n",
    "plt.show()"
   ]
  },
  {
   "cell_type": "code",
   "execution_count": 27,
   "metadata": {},
   "outputs": [
    {
     "data": {
      "text/plain": [
       "5    37570\n",
       "3    36047\n",
       "6    34656\n",
       "2    32444\n",
       "1     3561\n",
       "4     2487\n",
       "Name: booking_date_year, dtype: int64"
      ]
     },
     "execution_count": 27,
     "metadata": {},
     "output_type": "execute_result"
    }
   ],
   "source": [
    "# clearly visible that 18 ->17 ->19...\n",
    "# target encoding for the booking year\n",
    "\n",
    "train['booking_date_year'].replace((14, 15, 16, 17, 18, 19), (1, 2, 3, 5, 6, 4), inplace = True)\n",
    "\n",
    "train['booking_date_year'].value_counts()\n",
    "\n",
    "test['booking_date_year'].replace((14, 15, 16, 17, 18, 19), (1, 2, 3, 5, 6, 4), inplace = True)\n",
    "\n",
    "test['booking_date_year'].value_counts()"
   ]
  },
  {
   "cell_type": "code",
   "execution_count": 28,
   "metadata": {},
   "outputs": [
    {
     "data": {
      "image/png": "[encoded data removed]",
      "text/plain": [
       "<Figure size 1296x576 with 2 Axes>"
      ]
     },
     "metadata": {},
     "output_type": "display_data"
    }
   ],
   "source": [
    "# analysis of booking month\n",
    "\n",
    "# counting the values of monthly wise\n",
    "plt.rcParams['figure.figsize'] = (18, 8)\n",
    "plt.subplot(1, 2, 1)\n",
    "sns.countplot(train['booking_date_month'], palette = 'Reds')\n",
    "plt.title('Value counts Month wise', fontsize = 20)\n",
    "plt.xticks(rotation = 90)\n",
    "\n",
    "# checking dependency with the target variable\n",
    "plt.subplot(1, 2, 2)\n",
    "sns.lineplot(train['booking_date_month'], y_train, color = 'brown')#, palette = 'PRGn')\n",
    "plt.title('Checking Dependency with the Target', fontsize = 20)\n",
    "plt.xticks(rotation = 90)\n",
    "\n",
    "plt.show()"
   ]
  },
  {
   "cell_type": "code",
   "execution_count": 29,
   "metadata": {},
   "outputs": [
    {
     "data": {
      "text/plain": [
       "2    59592\n",
       "1    38746\n",
       "3    24634\n",
       "4    23793\n",
       "Name: booking_date_month, dtype: int64"
      ]
     },
     "execution_count": 29,
     "metadata": {},
     "output_type": "execute_result"
    }
   ],
   "source": [
    "# target encoding for booking month\n",
    "# i have made some groups according to the graph\n",
    "# most busy month -march, april, then september and may, then december, october, august, june, july, and at last february, november and January\n",
    "\n",
    "train['booking_date_month'].replace((1, 2, 3, 4, 5, 6, 7, 8, 9, 10, 11, 12), (1, 1, 4, 4, 3, 2, 2, 2, 3, 2, 1, 2), inplace = True)\n",
    "\n",
    "train['booking_date_month'].value_counts()\n",
    "\n",
    "test['booking_date_month'].replace((1, 2, 3, 4, 5, 6, 7, 8, 9, 10, 11, 12), (1, 1, 4, 4, 3, 2, 2, 2, 3, 2, 1, 2), inplace = True)\n",
    "\n",
    "test['booking_date_month'].value_counts()"
   ]
  },
  {
   "cell_type": "code",
   "execution_count": 30,
   "metadata": {},
   "outputs": [
    {
     "data": {
      "text/plain": [
       "6    41325\n",
       "5    37921\n",
       "4    35462\n",
       "3    32055\n",
       "1        2\n",
       "Name: checkin_date_year, dtype: int64"
      ]
     },
     "execution_count": 30,
     "metadata": {},
     "output_type": "execute_result"
    }
   ],
   "source": [
    "# target encoding for the checkin year\n",
    "\n",
    "train['checkin_date_year'].replace((12, 14, 15, 16, 17,18,19), (1, 2, 3, 4, 5, 6, 6), inplace = True)\n",
    "\n",
    "train['checkin_date_year'].value_counts()\n",
    "\n",
    "test['checkin_date_year'].replace((12, 14, 15, 16, 17,18,19), (1, 2, 3, 4, 5, 6, 6), inplace = True)\n",
    "\n",
    "test['checkin_date_year'].value_counts()"
   ]
  },
  {
   "cell_type": "code",
   "execution_count": 31,
   "metadata": {},
   "outputs": [
    {
     "data": {
      "text/plain": [
       "2    58203\n",
       "1    39352\n",
       "4    25485\n",
       "3    23725\n",
       "Name: checkin_date_month, dtype: int64"
      ]
     },
     "execution_count": 31,
     "metadata": {},
     "output_type": "execute_result"
    }
   ],
   "source": [
    "# target encoding for checkin month\n",
    "# I have made some groups according to the graph\n",
    "# most busy month -march, april, then september and may, then december, october, august, june, july, and at last february, november and January\n",
    "\n",
    "train['checkin_date_month'].replace((1, 2, 3, 4, 5, 6, 7, 8, 9, 10, 11, 12), (1, 1, 4, 4, 3, 2, 2, 2, 3, 2, 1, 2), inplace = True)\n",
    "\n",
    "train['checkin_date_month'].value_counts()\n",
    "\n",
    "test['checkin_date_month'].replace((1, 2, 3, 4, 5, 6, 7, 8, 9, 10, 11, 12), (1, 1, 4, 4, 3, 2, 2, 2, 3, 2, 1, 2), inplace = True)\n",
    "\n",
    "test['checkin_date_month'].value_counts()"
   ]
  },
  {
   "cell_type": "code",
   "execution_count": 32,
   "metadata": {},
   "outputs": [
    {
     "data": {
      "text/plain": [
       "6    41662\n",
       "5    37896\n",
       "4    35424\n",
       "3    31781\n",
       "1        2\n",
       "Name: checkout_date_year, dtype: int64"
      ]
     },
     "execution_count": 32,
     "metadata": {},
     "output_type": "execute_result"
    }
   ],
   "source": [
    "# target encoding for the checkout year\n",
    "\n",
    "train['checkout_date_year'].replace((12, 14, 15, 16, 17, 18, 19), (1, 2, 3, 4, 5, 6, 6), inplace = True)\n",
    "\n",
    "train['checkout_date_year'].value_counts()\n",
    "\n",
    "test['checkout_date_year'].replace((12, 14, 15, 16, 17, 18, 19), (1, 2, 3, 4, 5, 6, 6), inplace = True)\n",
    "\n",
    "test['checkout_date_year'].value_counts()"
   ]
  },
  {
   "cell_type": "code",
   "execution_count": 33,
   "metadata": {},
   "outputs": [
    {
     "data": {
      "text/plain": [
       "1    58666\n",
       "2    50114\n",
       "3    37985\n",
       "Name: checkout_date_month, dtype: int64"
      ]
     },
     "execution_count": 33,
     "metadata": {},
     "output_type": "execute_result"
    }
   ],
   "source": [
    "# target encoding for checkin month\n",
    "# I have made some groups according to the graph\n",
    "# let's encode 12, 5 as 3\n",
    "# let's encode 6, 4, 8, 10, 1 as 2 and,\n",
    "# let's encode 2, 7, 3, 11, 9 with 1\n",
    "\n",
    "train['checkout_date_month'].replace((1, 2, 3, 4, 5, 6, 7, 8, 9, 10, 11, 12), (2, 1, 1, 2, 3, 3, 1, 2, 1, 2, 1, 3), inplace = True)\n",
    "\n",
    "train['checkout_date_month'].value_counts()\n",
    "\n",
    "test['checkout_date_month'].replace((1, 2, 3, 4, 5, 6, 7, 8, 9, 10, 11, 12), (2, 1, 1, 2, 3, 3, 1, 2, 1, 2, 1, 3), inplace = True)\n",
    "\n",
    "test['checkout_date_month'].value_counts()"
   ]
  },
  {
   "cell_type": "code",
   "execution_count": 34,
   "metadata": {
    "scrolled": true
   },
   "outputs": [
    {
     "data": {
      "image/png": "[encoded data removed]",
      "text/plain": [
       "<Figure size 1296x576 with 2 Axes>"
      ]
     },
     "metadata": {},
     "output_type": "display_data"
    }
   ],
   "source": [
    "# let's check the distribution of y_train, the target variable\n",
    "\n",
    "from scipy import stats\n",
    "from scipy.stats import norm\n",
    "\n",
    "plt.subplot(1, 2, 1)\n",
    "sns.distplot(y_train, color = 'violet', fit = norm)\n",
    "plt.title('Distribution plot', fontsize = 20)\n",
    "\n",
    "plt.subplot(1, 2, 2)\n",
    "stats.probplot(y_train, plot = plt)\n",
    "plt.show()"
   ]
  },
  {
   "cell_type": "code",
   "execution_count": 35,
   "metadata": {},
   "outputs": [],
   "source": [
    "# taking log\n",
    "train['numberofadults'] = np.log1p(train['numberofadults'])\n",
    "train['numberofchildren'] = np.log1p(train['numberofchildren'])\n",
    "train['resort_type_code'] = np.log1p(train['resort_type_code'])\n",
    "train['room_type_booked_code'] = np.log1p(train['room_type_booked_code'])\n",
    "train['roomnights'] = np.log1p(train['roomnights'])\n",
    "train['state_code_residence'] = np.log1p(train['state_code_residence'])\n",
    "train['total_pax'] = np.log1p(train['total_pax'])\n",
    "\n",
    "test['numberofadults'] = np.log1p(test['numberofadults'])\n",
    "test['numberofchildren'] = np.log1p(test['numberofchildren'])\n",
    "test['resort_type_code'] = np.log1p(test['resort_type_code'])\n",
    "test['room_type_booked_code'] = np.log1p(test['room_type_booked_code'])\n",
    "test['roomnights'] = np.log1p(test['roomnights'])\n",
    "test['state_code_residence'] = np.log1p(test['state_code_residence'])\n",
    "test['total_pax'] = np.log1p(test['total_pax'])"
   ]
  },
  {
   "cell_type": "code",
   "execution_count": 36,
   "metadata": {},
   "outputs": [],
   "source": [
    "X=train[['channel_code', 'main_product_code', 'numberofadults',\n",
    "       'numberofchildren', 'persontravellingid', 'resort_region_code',\n",
    "       'resort_type_code', 'room_type_booked_code', 'roomnights',\n",
    "       'season_holidayed_code', 'state_code_residence', 'state_code_resort',\n",
    "       'total_pax', 'member_age_buckets', 'booking_type_code', 'cluster_code',\n",
    "       'reservationstatusid_code', 'resort_id','booking_date_month',\n",
    "       'booking_date_year', 'checkin_date_month', 'checkin_date_year',\n",
    "       'checkout_date_month', 'checkout_date_year','no. of days']]\n",
    "\n",
    "Y = train['amount_spent_per_room_night_scaled']\n",
    "\n",
    "x_test=test[['channel_code', 'main_product_code', 'numberofadults',\n",
    "       'numberofchildren', 'persontravellingid', 'resort_region_code',\n",
    "       'resort_type_code', 'room_type_booked_code', 'roomnights',\n",
    "       'season_holidayed_code', 'state_code_residence', 'state_code_resort',\n",
    "       'total_pax', 'member_age_buckets', 'booking_type_code', 'cluster_code',\n",
    "       'reservationstatusid_code', 'resort_id','booking_date_month',\n",
    "       'booking_date_year', 'checkin_date_month', 'checkin_date_year',\n",
    "       'checkout_date_month', 'checkout_date_year','no. of days']]"
   ]
  },
  {
   "cell_type": "code",
   "execution_count": 37,
   "metadata": {},
   "outputs": [],
   "source": [
    "lgb_params = {\n",
    "    \"objective\" : \"regression\",\n",
    "    \"metric\" : \"rmse\",\n",
    "    \"boosting\" : 'gbdt',\n",
    "    \"max_bin\" : 10,            # large value for better accuracy\n",
    "    \"learning_rate\" : 0.01,     # use small value for better accuracy\n",
    "#     \"num_iterations\" : 100,    # large value\n",
    "    \"num_leaves\" : 13,        # use large\n",
    "    \"max_depth\" : -1,\n",
    "    \"min_data_in_leaf\":0,\n",
    "    \"bagging_speed\" : 1234,\n",
    "    \"verbosity\" : 1,\n",
    "    \"lambda_l2\" : 5.0,\n",
    "    \"seed\" : 1234,\n",
    "    \"drop_rate\" : 0.5,\n",
    "}"
   ]
  },
  {
   "cell_type": "code",
   "execution_count": 38,
   "metadata": {},
   "outputs": [
    {
     "name": "stderr",
     "output_type": "stream",
     "text": [
      "/usr/local/lib/python3.5/dist-packages/sklearn/preprocessing/data.py:645: DataConversionWarning: Data with input dtype int64, float64 were all converted to float64 by StandardScaler.\n",
      "  return self.partial_fit(X, y)\n",
      "/usr/local/lib/python3.5/dist-packages/sklearn/base.py:464: DataConversionWarning: Data with input dtype int64, float64 were all converted to float64 by StandardScaler.\n",
      "  return self.fit(X, **fit_params).transform(X)\n",
      "/home/arya/.local/lib/python3.5/site-packages/ipykernel_launcher.py:6: DataConversionWarning: Data with input dtype int64, float64, object were all converted to float64 by StandardScaler.\n",
      "  \n"
     ]
    }
   ],
   "source": [
    "from sklearn.preprocessing import StandardScaler\n",
    "\n",
    "# Apply standardization\n",
    "sc = StandardScaler()\n",
    "X = sc.fit_transform(X)\n",
    "x_test = sc.transform(x_test)"
   ]
  },
  {
   "cell_type": "code",
   "execution_count": 39,
   "metadata": {},
   "outputs": [
    {
     "data": {
      "text/html": [
       "<div>\n",
       "<style scoped>\n",
       "    .dataframe tbody tr th:only-of-type {\n",
       "        vertical-align: middle;\n",
       "    }\n",
       "\n",
       "    .dataframe tbody tr th {\n",
       "        vertical-align: top;\n",
       "    }\n",
       "\n",
       "    .dataframe thead th {\n",
       "        text-align: right;\n",
       "    }\n",
       "</style>\n",
       "<table border=\"1\" class=\"dataframe\">\n",
       "  <thead>\n",
       "    <tr style=\"text-align: right;\">\n",
       "      <th></th>\n",
       "      <th>skew</th>\n",
       "    </tr>\n",
       "  </thead>\n",
       "  <tbody>\n",
       "    <tr>\n",
       "      <th>numberofchildren</th>\n",
       "      <td>28.519452</td>\n",
       "    </tr>\n",
       "    <tr>\n",
       "      <th>numberofadults</th>\n",
       "      <td>12.150308</td>\n",
       "    </tr>\n",
       "    <tr>\n",
       "      <th>no. of days</th>\n",
       "      <td>10.696616</td>\n",
       "    </tr>\n",
       "    <tr>\n",
       "      <th>persontravellingid</th>\n",
       "      <td>5.056162</td>\n",
       "    </tr>\n",
       "    <tr>\n",
       "      <th>total_pax</th>\n",
       "      <td>4.872165</td>\n",
       "    </tr>\n",
       "    <tr>\n",
       "      <th>booking_type_code</th>\n",
       "      <td>2.278763</td>\n",
       "    </tr>\n",
       "    <tr>\n",
       "      <th>roomnights</th>\n",
       "      <td>1.602066</td>\n",
       "    </tr>\n",
       "    <tr>\n",
       "      <th>booking_date_month</th>\n",
       "      <td>0.466237</td>\n",
       "    </tr>\n",
       "    <tr>\n",
       "      <th>checkin_date_month</th>\n",
       "      <td>0.451133</td>\n",
       "    </tr>\n",
       "    <tr>\n",
       "      <th>checkout_date_month</th>\n",
       "      <td>0.254834</td>\n",
       "    </tr>\n",
       "  </tbody>\n",
       "</table>\n",
       "</div>"
      ],
      "text/plain": [
       "                          skew\n",
       "numberofchildren     28.519452\n",
       "numberofadults       12.150308\n",
       "no. of days          10.696616\n",
       "persontravellingid    5.056162\n",
       "total_pax             4.872165\n",
       "booking_type_code     2.278763\n",
       "roomnights            1.602066\n",
       "booking_date_month    0.466237\n",
       "checkin_date_month    0.451133\n",
       "checkout_date_month   0.254834"
      ]
     },
     "execution_count": 39,
     "metadata": {},
     "output_type": "execute_result"
    }
   ],
   "source": [
    "# finding the skewed features\n",
    "\n",
    "from scipy.stats import skew\n",
    "\n",
    "# getting the numerical features\n",
    "numerical_features = train.dtypes[train.dtypes != 'object'].index\n",
    "\n",
    "# extracting the skewed features\n",
    "skewed_features = train[numerical_features].apply(lambda x: skew(x.dropna())).sort_values(ascending = False)\n",
    "\n",
    "# converting the feautures into a dataframe\n",
    "skewness = pd.DataFrame({'skew': skewed_features})\n",
    "\n",
    "# let's check the skewess in the data\n",
    "skewness.head(10)"
   ]
  },
  {
   "cell_type": "code",
   "execution_count": 40,
   "metadata": {},
   "outputs": [
    {
     "name": "stderr",
     "output_type": "stream",
     "text": [
      "/usr/local/lib/python3.5/dist-packages/pandas/core/computation/check.py:19: UserWarning: The installed version of numexpr 2.4.3 is not supported in pandas and will be not be used\n",
      "The minimum supported version is 2.6.1\n",
      "\n",
      "  ver=ver, min_ver=_MIN_NUMEXPR_VERSION), UserWarning)\n"
     ]
    },
    {
     "name": "stdout",
     "output_type": "stream",
     "text": [
      "There are 26 skewed features to box-cox transform\n"
     ]
    }
   ],
   "source": [
    "# applying box-cox transformations\n",
    "\n",
    "skewness = skewness[abs(skewness > 0.8)]\n",
    "print(\"There are {} skewed features to box-cox transform\".format(skewness.shape[0]))\n",
    "\n",
    "# importing box-cox\n",
    "from scipy.special import boxcox1p\n",
    "\n",
    "skewed_features = skewness.index\n",
    "\n",
    "lam = 0.15\n",
    "for feat in skewed_features:\n",
    "    train[feat] += 1\n",
    "    train[feat] = boxcox1p(train[feat], lam)\n",
    "  \n",
    "train[skewed_features] = np.log1p(train[skewed_features])"
   ]
  },
  {
   "cell_type": "code",
   "execution_count": 41,
   "metadata": {},
   "outputs": [
    {
     "data": {
      "text/html": [
       "<div>\n",
       "<style scoped>\n",
       "    .dataframe tbody tr th:only-of-type {\n",
       "        vertical-align: middle;\n",
       "    }\n",
       "\n",
       "    .dataframe tbody tr th {\n",
       "        vertical-align: top;\n",
       "    }\n",
       "\n",
       "    .dataframe thead th {\n",
       "        text-align: right;\n",
       "    }\n",
       "</style>\n",
       "<table border=\"1\" class=\"dataframe\">\n",
       "  <thead>\n",
       "    <tr style=\"text-align: right;\">\n",
       "      <th></th>\n",
       "      <th>skew</th>\n",
       "    </tr>\n",
       "  </thead>\n",
       "  <tbody>\n",
       "    <tr>\n",
       "      <th>numberofchildren</th>\n",
       "      <td>28.092052</td>\n",
       "    </tr>\n",
       "    <tr>\n",
       "      <th>numberofadults</th>\n",
       "      <td>12.183520</td>\n",
       "    </tr>\n",
       "    <tr>\n",
       "      <th>no. of days</th>\n",
       "      <td>10.844564</td>\n",
       "    </tr>\n",
       "    <tr>\n",
       "      <th>persontravellingid</th>\n",
       "      <td>5.075193</td>\n",
       "    </tr>\n",
       "    <tr>\n",
       "      <th>total_pax</th>\n",
       "      <td>4.933117</td>\n",
       "    </tr>\n",
       "    <tr>\n",
       "      <th>booking_type_code</th>\n",
       "      <td>2.290738</td>\n",
       "    </tr>\n",
       "    <tr>\n",
       "      <th>roomnights</th>\n",
       "      <td>1.624281</td>\n",
       "    </tr>\n",
       "    <tr>\n",
       "      <th>booking_date_month</th>\n",
       "      <td>0.465426</td>\n",
       "    </tr>\n",
       "    <tr>\n",
       "      <th>checkin_date_month</th>\n",
       "      <td>0.452536</td>\n",
       "    </tr>\n",
       "    <tr>\n",
       "      <th>checkout_date_month</th>\n",
       "      <td>0.258377</td>\n",
       "    </tr>\n",
       "  </tbody>\n",
       "</table>\n",
       "</div>"
      ],
      "text/plain": [
       "                          skew\n",
       "numberofchildren     28.092052\n",
       "numberofadults       12.183520\n",
       "no. of days          10.844564\n",
       "persontravellingid    5.075193\n",
       "total_pax             4.933117\n",
       "booking_type_code     2.290738\n",
       "roomnights            1.624281\n",
       "booking_date_month    0.465426\n",
       "checkin_date_month    0.452536\n",
       "checkout_date_month   0.258377"
      ]
     },
     "execution_count": 41,
     "metadata": {},
     "output_type": "execute_result"
    }
   ],
   "source": [
    "# getting the numerical features\n",
    "numerical_features = test.dtypes[test.dtypes != 'object'].index\n",
    "\n",
    "# extracting the skewed features\n",
    "skewed_features = test[numerical_features].apply(lambda x: skew(x.dropna())).sort_values(ascending = False)\n",
    "\n",
    "# converting the feautures into a dataframe\n",
    "skewness = pd.DataFrame({'skew': skewed_features})\n",
    "\n",
    "# let's check the skewess in the data\n",
    "skewness.head(10)"
   ]
  },
  {
   "cell_type": "code",
   "execution_count": 42,
   "metadata": {},
   "outputs": [
    {
     "name": "stdout",
     "output_type": "stream",
     "text": [
      "There are 24 skewed features to box-cox transform\n"
     ]
    }
   ],
   "source": [
    "# applying box-cox transformations on test\n",
    "\n",
    "skewness = skewness[abs(skewness > 0.8)]\n",
    "print(\"There are {} skewed features to box-cox transform\".format(skewness.shape[0]))\n",
    "\n",
    "# importing box-cox\n",
    "from scipy.special import boxcox1p\n",
    "\n",
    "skewed_features = skewness.index\n",
    "\n",
    "lam = 0.15\n",
    "for feat in skewed_features:\n",
    "    test[feat] += 1\n",
    "    test[feat] = boxcox1p(train[feat], lam)\n",
    "  \n",
    "test[skewed_features] = np.log1p(train[skewed_features])"
   ]
  },
  {
   "cell_type": "code",
   "execution_count": 43,
   "metadata": {},
   "outputs": [
    {
     "name": "stdout",
     "output_type": "stream",
     "text": [
      "Training until validation scores don't improve for 3000 rounds.\n",
      "[1000]\ttraining's rmse: 0.161328\tvalid_1's rmse: 0.15981\n",
      "[2000]\ttraining's rmse: 0.16073\tvalid_1's rmse: 0.159561\n",
      "[3000]\ttraining's rmse: 0.160361\tvalid_1's rmse: 0.159448\n",
      "[4000]\ttraining's rmse: 0.16005\tvalid_1's rmse: 0.159364\n",
      "[5000]\ttraining's rmse: 0.159769\tvalid_1's rmse: 0.159279\n"
     ]
    },
    {
     "ename": "KeyboardInterrupt",
     "evalue": "",
     "output_type": "error",
     "traceback": [
      "\u001b[0;31m---------------------------------------------------------------------------\u001b[0m",
      "\u001b[0;31mKeyboardInterrupt\u001b[0m                         Traceback (most recent call last)",
      "\u001b[0;32m<ipython-input-43-4b469d8f67ea>\u001b[0m in \u001b[0;36m<module>\u001b[0;34m()\u001b[0m\n\u001b[1;32m     31\u001b[0m                         \u001b[0mearly_stopping_rounds\u001b[0m\u001b[0;34m=\u001b[0m\u001b[0;36m3000\u001b[0m\u001b[0;34m,\u001b[0m\u001b[0;34m\u001b[0m\u001b[0m\n\u001b[1;32m     32\u001b[0m                         \u001b[0mverbose_eval\u001b[0m \u001b[0;34m=\u001b[0m \u001b[0;36m1000\u001b[0m\u001b[0;34m,\u001b[0m\u001b[0;34m\u001b[0m\u001b[0m\n\u001b[0;32m---> 33\u001b[0;31m                         evals_result = evals_result)\n\u001b[0m\u001b[1;32m     34\u001b[0m     \u001b[0mall_preds\u001b[0m\u001b[0;34m.\u001b[0m\u001b[0mappend\u001b[0m\u001b[0;34m(\u001b[0m\u001b[0mlgb_clf\u001b[0m\u001b[0;34m.\u001b[0m\u001b[0mpredict\u001b[0m\u001b[0;34m(\u001b[0m\u001b[0mx_test\u001b[0m\u001b[0;34m)\u001b[0m\u001b[0;34m)\u001b[0m\u001b[0;34m\u001b[0m\u001b[0m\n",
      "\u001b[0;32m/usr/local/lib/python3.5/dist-packages/lightgbm/engine.py\u001b[0m in \u001b[0;36mtrain\u001b[0;34m(params, train_set, num_boost_round, valid_sets, valid_names, fobj, feval, init_model, feature_name, categorical_feature, early_stopping_rounds, evals_result, verbose_eval, learning_rates, keep_training_booster, callbacks)\u001b[0m\n\u001b[1;32m    216\u001b[0m                                     evaluation_result_list=None))\n\u001b[1;32m    217\u001b[0m \u001b[0;34m\u001b[0m\u001b[0m\n\u001b[0;32m--> 218\u001b[0;31m         \u001b[0mbooster\u001b[0m\u001b[0;34m.\u001b[0m\u001b[0mupdate\u001b[0m\u001b[0;34m(\u001b[0m\u001b[0mfobj\u001b[0m\u001b[0;34m=\u001b[0m\u001b[0mfobj\u001b[0m\u001b[0;34m)\u001b[0m\u001b[0;34m\u001b[0m\u001b[0m\n\u001b[0m\u001b[1;32m    219\u001b[0m \u001b[0;34m\u001b[0m\u001b[0m\n\u001b[1;32m    220\u001b[0m         \u001b[0mevaluation_result_list\u001b[0m \u001b[0;34m=\u001b[0m \u001b[0;34m[\u001b[0m\u001b[0;34m]\u001b[0m\u001b[0;34m\u001b[0m\u001b[0m\n",
      "\u001b[0;32m/usr/local/lib/python3.5/dist-packages/lightgbm/basic.py\u001b[0m in \u001b[0;36mupdate\u001b[0;34m(self, train_set, fobj)\u001b[0m\n\u001b[1;32m   1800\u001b[0m             _safe_call(_LIB.LGBM_BoosterUpdateOneIter(\n\u001b[1;32m   1801\u001b[0m                 \u001b[0mself\u001b[0m\u001b[0;34m.\u001b[0m\u001b[0mhandle\u001b[0m\u001b[0;34m,\u001b[0m\u001b[0;34m\u001b[0m\u001b[0m\n\u001b[0;32m-> 1802\u001b[0;31m                 ctypes.byref(is_finished)))\n\u001b[0m\u001b[1;32m   1803\u001b[0m             \u001b[0mself\u001b[0m\u001b[0;34m.\u001b[0m\u001b[0m__is_predicted_cur_iter\u001b[0m \u001b[0;34m=\u001b[0m \u001b[0;34m[\u001b[0m\u001b[0;32mFalse\u001b[0m \u001b[0;32mfor\u001b[0m \u001b[0m_\u001b[0m \u001b[0;32min\u001b[0m \u001b[0mrange_\u001b[0m\u001b[0;34m(\u001b[0m\u001b[0mself\u001b[0m\u001b[0;34m.\u001b[0m\u001b[0m__num_dataset\u001b[0m\u001b[0;34m)\u001b[0m\u001b[0;34m]\u001b[0m\u001b[0;34m\u001b[0m\u001b[0m\n\u001b[1;32m   1804\u001b[0m             \u001b[0;32mreturn\u001b[0m \u001b[0mis_finished\u001b[0m\u001b[0;34m.\u001b[0m\u001b[0mvalue\u001b[0m \u001b[0;34m==\u001b[0m \u001b[0;36m1\u001b[0m\u001b[0;34m\u001b[0m\u001b[0m\n",
      "\u001b[0;31mKeyboardInterrupt\u001b[0m: "
     ]
    }
   ],
   "source": [
    "kf = KFold(n_splits=15,shuffle=True,random_state=31)\n",
    "\n",
    "all_preds = []\n",
    "for t,v in kf.split(X,Y):\n",
    "    x_train, x_valid, y_train, y_valid = X[t], X[v], Y.iloc[t], Y.iloc[v]\n",
    "    lgb_train = lgb.Dataset(x_train,\n",
    "                            label=y_train,)\n",
    "#                            categorical_feature=['channel_code', 'main_product_code', 'numberofadults',\n",
    "#                                                 'numberofchildren', 'persontravellingid', 'resort_region_code',\n",
    "#                                                 'resort_type_code', 'room_type_booked_code', 'roomnights',\n",
    "#                                                 'season_holidayed_code', 'state_code_residence', 'state_code_resort',\n",
    "#                                                 'total_pax', 'member_age_buckets', 'booking_type_code', 'cluster_code',\n",
    "#                                                 'reservationstatusid_code', 'resort_id','booking_date_month',\n",
    "#                                                 'booking_date_year', 'checkin_date_month', 'checkin_date_year',\n",
    "#                                                 'checkout_date_month', 'checkout_date_year','no. of days'])\n",
    "    lgb_valid = lgb.Dataset(x_valid,\n",
    "                            label=y_valid,)\n",
    "#                             categorical_feature=['channel_code', 'main_product_code', 'numberofadults',\n",
    "#                                                 'numberofchildren', 'persontravellingid', 'resort_region_code',\n",
    "#                                                 'resort_type_code', 'room_type_booked_code', 'roomnights',\n",
    "#                                                 'season_holidayed_code', 'state_code_residence', 'state_code_resort',\n",
    "#                                                 'total_pax', 'member_age_buckets', 'booking_type_code', 'cluster_code',\n",
    "#                                                 'reservationstatusid_code', 'resort_id','booking_date_month',\n",
    "#                                                 'booking_date_year', 'checkin_date_month', 'checkin_date_year',\n",
    "#                                                 'checkout_date_month', 'checkout_date_year','no. of days'])\n",
    "    evals_result = {}\n",
    "    lgb_clf = lgb.train(lgb_params,\n",
    "                        lgb_train,\n",
    "                        100000,\n",
    "                        valid_sets = [lgb_train,lgb_valid],\n",
    "                        early_stopping_rounds=3000,\n",
    "                        verbose_eval = 1000,\n",
    "                        evals_result = evals_result)\n",
    "    all_preds.append(lgb_clf.predict(x_test))"
   ]
  },
  {
   "cell_type": "code",
   "execution_count": null,
   "metadata": {},
   "outputs": [],
   "source": [
    "imp = lgb_clf.feature_importance()\n",
    "fet = lgb_clf.feature_name()\n",
    "sns.barplot(x=imp,y=fet)"
   ]
  },
  {
   "cell_type": "code",
   "execution_count": null,
   "metadata": {},
   "outputs": [],
   "source": [
    "all_preds = np.vstack(all_preds)"
   ]
  },
  {
   "cell_type": "code",
   "execution_count": null,
   "metadata": {},
   "outputs": [],
   "source": [
    "preds = np.mean(all_preds,axis=0)"
   ]
  },
  {
   "cell_type": "code",
   "execution_count": null,
   "metadata": {},
   "outputs": [],
   "source": [
    "preds.shape"
   ]
  },
  {
   "cell_type": "code",
   "execution_count": null,
   "metadata": {},
   "outputs": [],
   "source": [
    "submission = pd.DataFrame()\n",
    "submission['reservation_id']=test_original['reservation_id']\n",
    "submission['amount_spent_per_room_night_scaled'] = preds\n",
    "submission"
   ]
  },
  {
   "cell_type": "code",
   "execution_count": null,
   "metadata": {},
   "outputs": [],
   "source": [
    "submission.to_csv('combine_with_skew_with_log.csv',index=False)"
   ]
  }
 ],
 "metadata": {
  "kernelspec": {
   "display_name": "Python 3",
   "language": "python",
   "name": "python3"
  },
  "language_info": {
   "codemirror_mode": {
    "name": "ipython",
    "version": 3
   },
   "file_extension": ".py",
   "mimetype": "text/x-python",
   "name": "python",
   "nbconvert_exporter": "python",
   "pygments_lexer": "ipython3",
   "version": "3.5.2"
  }
 },
 "nbformat": 4,
 "nbformat_minor": 2
}
