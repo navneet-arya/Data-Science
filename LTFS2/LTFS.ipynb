{
 "cells": [
  {
   "cell_type": "code",
   "execution_count": 35,
   "metadata": {},
   "outputs": [],
   "source": [
    "import numpy as np\n",
    "import pandas as pd"
   ]
  },
  {
   "cell_type": "code",
   "execution_count": 36,
   "metadata": {},
   "outputs": [],
   "source": [
    "train = pd.read_csv('train.csv')\n",
    "test = pd.read_csv('test.csv')\n",
    "holiday = pd.read_csv('Holiday_calendar.csv')"
   ]
  },
  {
   "cell_type": "code",
   "execution_count": 37,
   "metadata": {},
   "outputs": [
    {
     "name": "stdout",
     "output_type": "stream",
     "text": [
      "(80402, 6)\n"
     ]
    },
    {
     "data": {
      "text/html": [
       "<div>\n",
       "<style scoped>\n",
       "    .dataframe tbody tr th:only-of-type {\n",
       "        vertical-align: middle;\n",
       "    }\n",
       "\n",
       "    .dataframe tbody tr th {\n",
       "        vertical-align: top;\n",
       "    }\n",
       "\n",
       "    .dataframe thead th {\n",
       "        text-align: right;\n",
       "    }\n",
       "</style>\n",
       "<table border=\"1\" class=\"dataframe\">\n",
       "  <thead>\n",
       "    <tr style=\"text-align: right;\">\n",
       "      <th></th>\n",
       "      <th>application_date</th>\n",
       "      <th>segment</th>\n",
       "      <th>branch_id</th>\n",
       "      <th>state</th>\n",
       "      <th>zone</th>\n",
       "      <th>case_count</th>\n",
       "    </tr>\n",
       "  </thead>\n",
       "  <tbody>\n",
       "    <tr>\n",
       "      <th>0</th>\n",
       "      <td>2017-04-01</td>\n",
       "      <td>1</td>\n",
       "      <td>1.0</td>\n",
       "      <td>WEST BENGAL</td>\n",
       "      <td>EAST</td>\n",
       "      <td>40.0</td>\n",
       "    </tr>\n",
       "    <tr>\n",
       "      <th>1</th>\n",
       "      <td>2017-04-03</td>\n",
       "      <td>1</td>\n",
       "      <td>1.0</td>\n",
       "      <td>WEST BENGAL</td>\n",
       "      <td>EAST</td>\n",
       "      <td>5.0</td>\n",
       "    </tr>\n",
       "    <tr>\n",
       "      <th>2</th>\n",
       "      <td>2017-04-04</td>\n",
       "      <td>1</td>\n",
       "      <td>1.0</td>\n",
       "      <td>WEST BENGAL</td>\n",
       "      <td>EAST</td>\n",
       "      <td>4.0</td>\n",
       "    </tr>\n",
       "    <tr>\n",
       "      <th>3</th>\n",
       "      <td>2017-04-05</td>\n",
       "      <td>1</td>\n",
       "      <td>1.0</td>\n",
       "      <td>WEST BENGAL</td>\n",
       "      <td>EAST</td>\n",
       "      <td>113.0</td>\n",
       "    </tr>\n",
       "    <tr>\n",
       "      <th>4</th>\n",
       "      <td>2017-04-07</td>\n",
       "      <td>1</td>\n",
       "      <td>1.0</td>\n",
       "      <td>WEST BENGAL</td>\n",
       "      <td>EAST</td>\n",
       "      <td>76.0</td>\n",
       "    </tr>\n",
       "  </tbody>\n",
       "</table>\n",
       "</div>"
      ],
      "text/plain": [
       "  application_date  segment  branch_id        state  zone  case_count\n",
       "0       2017-04-01        1        1.0  WEST BENGAL  EAST        40.0\n",
       "1       2017-04-03        1        1.0  WEST BENGAL  EAST         5.0\n",
       "2       2017-04-04        1        1.0  WEST BENGAL  EAST         4.0\n",
       "3       2017-04-05        1        1.0  WEST BENGAL  EAST       113.0\n",
       "4       2017-04-07        1        1.0  WEST BENGAL  EAST        76.0"
      ]
     },
     "execution_count": 37,
     "metadata": {},
     "output_type": "execute_result"
    }
   ],
   "source": [
    "print(train.shape)\n",
    "train.head()"
   ]
  },
  {
   "cell_type": "code",
   "execution_count": 38,
   "metadata": {},
   "outputs": [
    {
     "data": {
      "text/plain": [
       "application_date        0\n",
       "segment                 0\n",
       "branch_id           13504\n",
       "state                   0\n",
       "zone                13504\n",
       "case_count              0\n",
       "dtype: int64"
      ]
     },
     "execution_count": 38,
     "metadata": {},
     "output_type": "execute_result"
    }
   ],
   "source": [
    "train.isnull().sum()"
   ]
  },
  {
   "cell_type": "code",
   "execution_count": null,
   "metadata": {},
   "outputs": [],
   "source": [
    "# print(train.state.unique())\n",
    "# branch = train.state.unique()\n",
    "# for each in branch:\n",
    "#     print('for Branch: {} state is: {}'.format(each, train[train['state']==each].branch_id.unique()))\n",
    "\n",
    "# ======================================================================\n",
    "for i in range(len(train)):\n",
    "    state = train['state'][i]\n",
    "    if state == 'WEST BENGAL':\n",
    "        train['branch_id'][i] = 8.0\n",
    "\n",
    "    if state == 'KARNATAKA':\n",
    "        train['branch_id'][i] = 64.0\n",
    "    \n",
    "    if state == 'TAMIL NADU':\n",
    "        train['branch_id'][i] = 64.0\n",
    "    \n",
    "    if state == 'UTTAR PRADESH':\n",
    "        train['branch_id'][i] = 14.0\n",
    "    \n",
    "    if state == 'PUNJAB':\n",
    "        train['branch_id'][i] = 62.0\n",
    "    \n",
    "    if state == 'MAHARASHTRA':\n",
    "        train['branch_id'][i] = 19.0\n",
    "    \n",
    "    if state == 'ORISSA':\n",
    "        train['branch_id'][i] = 48.0\n",
    "    \n",
    "    if state == 'GUJARAT':\n",
    "        train['branch_id'][i] = 61.0\n",
    "    \n",
    "    if state == 'ASSAM':\n",
    "        train['branch_id'][i] = 65.0\n",
    "        \n",
    "    if state == 'JHARKHAND':\n",
    "        train['branch_id'][i] = 104.0\n",
    "    \n",
    "    if state == 'KERALA':\n",
    "        train['branch_id'][i] = 82.0\n",
    "    \n",
    "    if state == 'CHHATTISGARH':\n",
    "        train['branch_id'][i] = 84.0\n",
    "    \n",
    "    if state == 'BIHAR':\n",
    "        train['branch_id'][i] = 159.0\n",
    "    \n",
    "    if state == 'TRIPURA':\n",
    "        train['branch_id'][i] = 251.0\n",
    "    \n",
    "    if state == 'MADHYA PRADESH':\n",
    "        train['branch_id'][i] = 147.0\n",
    "    \n",
    "    if state == 'HARYANA':\n",
    "        train['branch_id'][i] = 271.0\n",
    "\n",
    "# ===============================================================\n",
    "# zone = train.zone.unique()\n",
    "# for each in zone:\n",
    "#     print('for each zone: {} state is: {}'.format(each, train[train['zone']==each].state.unique()))\n",
    "\n",
    "#     =============================================================="
   ]
  },
  {
   "cell_type": "code",
   "execution_count": 41,
   "metadata": {
    "collapsed": true
   },
   "outputs": [
    {
     "name": "stderr",
     "output_type": "stream",
     "text": [
      "c:\\users\\navneet.a.arya\\appdata\\local\\programs\\python\\python37\\lib\\site-packages\\ipykernel_launcher.py:10: SettingWithCopyWarning: \n",
      "A value is trying to be set on a copy of a slice from a DataFrame\n",
      "\n",
      "See the caveats in the documentation: http://pandas.pydata.org/pandas-docs/stable/user_guide/indexing.html#returning-a-view-versus-a-copy\n",
      "  # Remove the CWD from sys.path while we load stuff.\n",
      "c:\\users\\navneet.a.arya\\appdata\\local\\programs\\python\\python37\\lib\\site-packages\\ipykernel_launcher.py:13: SettingWithCopyWarning: \n",
      "A value is trying to be set on a copy of a slice from a DataFrame\n",
      "\n",
      "See the caveats in the documentation: http://pandas.pydata.org/pandas-docs/stable/user_guide/indexing.html#returning-a-view-versus-a-copy\n",
      "  del sys.path[0]\n",
      "c:\\users\\navneet.a.arya\\appdata\\local\\programs\\python\\python37\\lib\\site-packages\\ipykernel_launcher.py:16: SettingWithCopyWarning: \n",
      "A value is trying to be set on a copy of a slice from a DataFrame\n",
      "\n",
      "See the caveats in the documentation: http://pandas.pydata.org/pandas-docs/stable/user_guide/indexing.html#returning-a-view-versus-a-copy\n",
      "  app.launch_new_instance()\n",
      "c:\\users\\navneet.a.arya\\appdata\\local\\programs\\python\\python37\\lib\\site-packages\\ipykernel_launcher.py:19: SettingWithCopyWarning: \n",
      "A value is trying to be set on a copy of a slice from a DataFrame\n",
      "\n",
      "See the caveats in the documentation: http://pandas.pydata.org/pandas-docs/stable/user_guide/indexing.html#returning-a-view-versus-a-copy\n",
      "c:\\users\\navneet.a.arya\\appdata\\local\\programs\\python\\python37\\lib\\site-packages\\ipykernel_launcher.py:22: SettingWithCopyWarning: \n",
      "A value is trying to be set on a copy of a slice from a DataFrame\n",
      "\n",
      "See the caveats in the documentation: http://pandas.pydata.org/pandas-docs/stable/user_guide/indexing.html#returning-a-view-versus-a-copy\n",
      "c:\\users\\navneet.a.arya\\appdata\\local\\programs\\python\\python37\\lib\\site-packages\\ipykernel_launcher.py:25: SettingWithCopyWarning: \n",
      "A value is trying to be set on a copy of a slice from a DataFrame\n",
      "\n",
      "See the caveats in the documentation: http://pandas.pydata.org/pandas-docs/stable/user_guide/indexing.html#returning-a-view-versus-a-copy\n",
      "c:\\users\\navneet.a.arya\\appdata\\local\\programs\\python\\python37\\lib\\site-packages\\ipykernel_launcher.py:28: SettingWithCopyWarning: \n",
      "A value is trying to be set on a copy of a slice from a DataFrame\n",
      "\n",
      "See the caveats in the documentation: http://pandas.pydata.org/pandas-docs/stable/user_guide/indexing.html#returning-a-view-versus-a-copy\n",
      "c:\\users\\navneet.a.arya\\appdata\\local\\programs\\python\\python37\\lib\\site-packages\\ipykernel_launcher.py:31: SettingWithCopyWarning: \n",
      "A value is trying to be set on a copy of a slice from a DataFrame\n",
      "\n",
      "See the caveats in the documentation: http://pandas.pydata.org/pandas-docs/stable/user_guide/indexing.html#returning-a-view-versus-a-copy\n",
      "c:\\users\\navneet.a.arya\\appdata\\local\\programs\\python\\python37\\lib\\site-packages\\ipykernel_launcher.py:34: SettingWithCopyWarning: \n",
      "A value is trying to be set on a copy of a slice from a DataFrame\n",
      "\n",
      "See the caveats in the documentation: http://pandas.pydata.org/pandas-docs/stable/user_guide/indexing.html#returning-a-view-versus-a-copy\n",
      "c:\\users\\navneet.a.arya\\appdata\\local\\programs\\python\\python37\\lib\\site-packages\\ipykernel_launcher.py:37: SettingWithCopyWarning: \n",
      "A value is trying to be set on a copy of a slice from a DataFrame\n",
      "\n",
      "See the caveats in the documentation: http://pandas.pydata.org/pandas-docs/stable/user_guide/indexing.html#returning-a-view-versus-a-copy\n",
      "c:\\users\\navneet.a.arya\\appdata\\local\\programs\\python\\python37\\lib\\site-packages\\ipykernel_launcher.py:40: SettingWithCopyWarning: \n",
      "A value is trying to be set on a copy of a slice from a DataFrame\n",
      "\n",
      "See the caveats in the documentation: http://pandas.pydata.org/pandas-docs/stable/user_guide/indexing.html#returning-a-view-versus-a-copy\n",
      "c:\\users\\navneet.a.arya\\appdata\\local\\programs\\python\\python37\\lib\\site-packages\\ipykernel_launcher.py:43: SettingWithCopyWarning: \n",
      "A value is trying to be set on a copy of a slice from a DataFrame\n",
      "\n",
      "See the caveats in the documentation: http://pandas.pydata.org/pandas-docs/stable/user_guide/indexing.html#returning-a-view-versus-a-copy\n",
      "c:\\users\\navneet.a.arya\\appdata\\local\\programs\\python\\python37\\lib\\site-packages\\ipykernel_launcher.py:46: SettingWithCopyWarning: \n",
      "A value is trying to be set on a copy of a slice from a DataFrame\n",
      "\n",
      "See the caveats in the documentation: http://pandas.pydata.org/pandas-docs/stable/user_guide/indexing.html#returning-a-view-versus-a-copy\n",
      "c:\\users\\navneet.a.arya\\appdata\\local\\programs\\python\\python37\\lib\\site-packages\\ipykernel_launcher.py:49: SettingWithCopyWarning: \n",
      "A value is trying to be set on a copy of a slice from a DataFrame\n",
      "\n",
      "See the caveats in the documentation: http://pandas.pydata.org/pandas-docs/stable/user_guide/indexing.html#returning-a-view-versus-a-copy\n",
      "c:\\users\\navneet.a.arya\\appdata\\local\\programs\\python\\python37\\lib\\site-packages\\ipykernel_launcher.py:52: SettingWithCopyWarning: \n",
      "A value is trying to be set on a copy of a slice from a DataFrame\n",
      "\n",
      "See the caveats in the documentation: http://pandas.pydata.org/pandas-docs/stable/user_guide/indexing.html#returning-a-view-versus-a-copy\n",
      "c:\\users\\navneet.a.arya\\appdata\\local\\programs\\python\\python37\\lib\\site-packages\\ipykernel_launcher.py:55: SettingWithCopyWarning: \n",
      "A value is trying to be set on a copy of a slice from a DataFrame\n",
      "\n",
      "See the caveats in the documentation: http://pandas.pydata.org/pandas-docs/stable/user_guide/indexing.html#returning-a-view-versus-a-copy\n",
      "c:\\users\\navneet.a.arya\\appdata\\local\\programs\\python\\python37\\lib\\site-packages\\ipykernel_launcher.py:73: SettingWithCopyWarning: \n",
      "A value is trying to be set on a copy of a slice from a DataFrame\n",
      "\n",
      "See the caveats in the documentation: http://pandas.pydata.org/pandas-docs/stable/user_guide/indexing.html#returning-a-view-versus-a-copy\n",
      "c:\\users\\navneet.a.arya\\appdata\\local\\programs\\python\\python37\\lib\\site-packages\\ipykernel_launcher.py:76: SettingWithCopyWarning: \n",
      "A value is trying to be set on a copy of a slice from a DataFrame\n",
      "\n",
      "See the caveats in the documentation: http://pandas.pydata.org/pandas-docs/stable/user_guide/indexing.html#returning-a-view-versus-a-copy\n",
      "c:\\users\\navneet.a.arya\\appdata\\local\\programs\\python\\python37\\lib\\site-packages\\ipykernel_launcher.py:79: SettingWithCopyWarning: \n",
      "A value is trying to be set on a copy of a slice from a DataFrame\n",
      "\n",
      "See the caveats in the documentation: http://pandas.pydata.org/pandas-docs/stable/user_guide/indexing.html#returning-a-view-versus-a-copy\n",
      "c:\\users\\navneet.a.arya\\appdata\\local\\programs\\python\\python37\\lib\\site-packages\\ipykernel_launcher.py:82: SettingWithCopyWarning: \n",
      "A value is trying to be set on a copy of a slice from a DataFrame\n",
      "\n",
      "See the caveats in the documentation: http://pandas.pydata.org/pandas-docs/stable/user_guide/indexing.html#returning-a-view-versus-a-copy\n",
      "c:\\users\\navneet.a.arya\\appdata\\local\\programs\\python\\python37\\lib\\site-packages\\ipykernel_launcher.py:85: SettingWithCopyWarning: \n",
      "A value is trying to be set on a copy of a slice from a DataFrame\n",
      "\n",
      "See the caveats in the documentation: http://pandas.pydata.org/pandas-docs/stable/user_guide/indexing.html#returning-a-view-versus-a-copy\n"
     ]
    }
   ],
   "source": [
    "east = ['WEST BENGAL', 'UTTAR PRADESH', 'ASSAM', 'UTTARAKHAND', 'BIHAR','TRIPURA','ORISSA']\n",
    "north = ['DELHI', 'PUNJAB', 'HARYANA']\n",
    "south = ['KARNATAKA', 'TAMIL NADU', 'TELANGANA', 'ANDHRA PRADESH', 'ORISSA', 'JHARKHAND', 'KERALA']\n",
    "west = ['MAHARASHTRA', 'GUJARAT']\n",
    "central = ['CHHATTISGARH', 'MADHYA PRADESH']\n",
    "for i in range(len(train)):\n",
    "    state = train['state'][i]\n",
    "    if state in east:\n",
    "        train['zone'][i] = 'EAST'\n",
    "    \n",
    "    if state in north:\n",
    "        train['zone'][i] = 'NORTH'\n",
    "    \n",
    "    if state in south:\n",
    "        train['zone'][i] = 'SOUTH'\n",
    "    \n",
    "    if state in west:\n",
    "        train['zone'][i] = 'WEST'\n",
    "    \n",
    "    if state in central:\n",
    "        train['zone'][i] = 'CENTRAL'"
   ]
  },
  {
   "cell_type": "code",
   "execution_count": 5,
   "metadata": {
    "collapsed": true
   },
   "outputs": [
    {
     "name": "stderr",
     "output_type": "stream",
     "text": [
      "c:\\users\\navneet.a.arya\\appdata\\local\\programs\\python\\python37\\lib\\site-packages\\ipykernel_launcher.py:13: SettingWithCopyWarning: \n",
      "A value is trying to be set on a copy of a slice from a DataFrame\n",
      "\n",
      "See the caveats in the documentation: http://pandas.pydata.org/pandas-docs/stable/user_guide/indexing.html#returning-a-view-versus-a-copy\n",
      "  del sys.path[0]\n",
      "c:\\users\\navneet.a.arya\\appdata\\local\\programs\\python\\python37\\lib\\site-packages\\ipykernel_launcher.py:14: SettingWithCopyWarning: \n",
      "A value is trying to be set on a copy of a slice from a DataFrame\n",
      "\n",
      "See the caveats in the documentation: http://pandas.pydata.org/pandas-docs/stable/user_guide/indexing.html#returning-a-view-versus-a-copy\n",
      "  \n",
      "c:\\users\\navneet.a.arya\\appdata\\local\\programs\\python\\python37\\lib\\site-packages\\ipykernel_launcher.py:15: SettingWithCopyWarning: \n",
      "A value is trying to be set on a copy of a slice from a DataFrame\n",
      "\n",
      "See the caveats in the documentation: http://pandas.pydata.org/pandas-docs/stable/user_guide/indexing.html#returning-a-view-versus-a-copy\n",
      "  from ipykernel import kernelapp as app\n",
      "c:\\users\\navneet.a.arya\\appdata\\local\\programs\\python\\python37\\lib\\site-packages\\ipykernel_launcher.py:16: SettingWithCopyWarning: \n",
      "A value is trying to be set on a copy of a slice from a DataFrame\n",
      "\n",
      "See the caveats in the documentation: http://pandas.pydata.org/pandas-docs/stable/user_guide/indexing.html#returning-a-view-versus-a-copy\n",
      "  app.launch_new_instance()\n",
      "c:\\users\\navneet.a.arya\\appdata\\local\\programs\\python\\python37\\lib\\site-packages\\ipykernel_launcher.py:18: SettingWithCopyWarning: \n",
      "A value is trying to be set on a copy of a slice from a DataFrame\n",
      "\n",
      "See the caveats in the documentation: http://pandas.pydata.org/pandas-docs/stable/user_guide/indexing.html#returning-a-view-versus-a-copy\n",
      "c:\\users\\navneet.a.arya\\appdata\\local\\programs\\python\\python37\\lib\\site-packages\\ipykernel_launcher.py:20: SettingWithCopyWarning: \n",
      "A value is trying to be set on a copy of a slice from a DataFrame\n",
      "\n",
      "See the caveats in the documentation: http://pandas.pydata.org/pandas-docs/stable/user_guide/indexing.html#returning-a-view-versus-a-copy\n",
      "c:\\users\\navneet.a.arya\\appdata\\local\\programs\\python\\python37\\lib\\site-packages\\ipykernel_launcher.py:24: SettingWithCopyWarning: \n",
      "A value is trying to be set on a copy of a slice from a DataFrame\n",
      "\n",
      "See the caveats in the documentation: http://pandas.pydata.org/pandas-docs/stable/user_guide/indexing.html#returning-a-view-versus-a-copy\n"
     ]
    }
   ],
   "source": [
    "train['year'] = 1\n",
    "train['month'] = 1\n",
    "train['day'] = 1\n",
    "train['week'] = 1\n",
    "train['weekend'] = 1\n",
    "train['holiday'] = 0\n",
    "import datetime\n",
    "# Some data engineering on datetime\n",
    "for i in range(len(train)):\n",
    "    o_date  = train['application_date'][i]\n",
    "    date = datetime.datetime.strptime(o_date, '%Y-%m-%d')\n",
    "    dt = date.isocalendar()\n",
    "    train['year'][i] = dt[0]\n",
    "    train['month'][i] = date.month\n",
    "    train['day'][i] = date.day\n",
    "    train['week'][i] = dt[1]\n",
    "    if dt[2] == 5 or dt[2] == 6:\n",
    "        train['weekend'][i] = 1\n",
    "    else:\n",
    "        train['weekend'][i] = 0\n",
    "    for j in range(len(holiday)):\n",
    "        holi_date = holiday['Date'][j]\n",
    "        if(o_date == holi_date):\n",
    "            train['holiday'][i]=1"
   ]
  },
  {
   "cell_type": "code",
   "execution_count": 44,
   "metadata": {},
   "outputs": [
    {
     "data": {
      "text/html": [
       "<div>\n",
       "<style scoped>\n",
       "    .dataframe tbody tr th:only-of-type {\n",
       "        vertical-align: middle;\n",
       "    }\n",
       "\n",
       "    .dataframe tbody tr th {\n",
       "        vertical-align: top;\n",
       "    }\n",
       "\n",
       "    .dataframe thead th {\n",
       "        text-align: right;\n",
       "    }\n",
       "</style>\n",
       "<table border=\"1\" class=\"dataframe\">\n",
       "  <thead>\n",
       "    <tr style=\"text-align: right;\">\n",
       "      <th></th>\n",
       "      <th>application_date</th>\n",
       "      <th>segment</th>\n",
       "      <th>branch_id</th>\n",
       "      <th>state</th>\n",
       "      <th>zone</th>\n",
       "      <th>case_count</th>\n",
       "    </tr>\n",
       "  </thead>\n",
       "  <tbody>\n",
       "    <tr>\n",
       "      <th>0</th>\n",
       "      <td>2017-04-01</td>\n",
       "      <td>1</td>\n",
       "      <td>8.0</td>\n",
       "      <td>WEST BENGAL</td>\n",
       "      <td>EAST</td>\n",
       "      <td>40.0</td>\n",
       "    </tr>\n",
       "    <tr>\n",
       "      <th>1</th>\n",
       "      <td>2017-04-03</td>\n",
       "      <td>1</td>\n",
       "      <td>8.0</td>\n",
       "      <td>WEST BENGAL</td>\n",
       "      <td>EAST</td>\n",
       "      <td>5.0</td>\n",
       "    </tr>\n",
       "    <tr>\n",
       "      <th>2</th>\n",
       "      <td>2017-04-04</td>\n",
       "      <td>1</td>\n",
       "      <td>8.0</td>\n",
       "      <td>WEST BENGAL</td>\n",
       "      <td>EAST</td>\n",
       "      <td>4.0</td>\n",
       "    </tr>\n",
       "    <tr>\n",
       "      <th>3</th>\n",
       "      <td>2017-04-05</td>\n",
       "      <td>1</td>\n",
       "      <td>8.0</td>\n",
       "      <td>WEST BENGAL</td>\n",
       "      <td>EAST</td>\n",
       "      <td>113.0</td>\n",
       "    </tr>\n",
       "    <tr>\n",
       "      <th>4</th>\n",
       "      <td>2017-04-07</td>\n",
       "      <td>1</td>\n",
       "      <td>8.0</td>\n",
       "      <td>WEST BENGAL</td>\n",
       "      <td>EAST</td>\n",
       "      <td>76.0</td>\n",
       "    </tr>\n",
       "  </tbody>\n",
       "</table>\n",
       "</div>"
      ],
      "text/plain": [
       "  application_date  segment  branch_id        state  zone  case_count\n",
       "0       2017-04-01        1        8.0  WEST BENGAL  EAST        40.0\n",
       "1       2017-04-03        1        8.0  WEST BENGAL  EAST         5.0\n",
       "2       2017-04-04        1        8.0  WEST BENGAL  EAST         4.0\n",
       "3       2017-04-05        1        8.0  WEST BENGAL  EAST       113.0\n",
       "4       2017-04-07        1        8.0  WEST BENGAL  EAST        76.0"
      ]
     },
     "execution_count": 44,
     "metadata": {},
     "output_type": "execute_result"
    }
   ],
   "source": [
    "train.head()"
   ]
  },
  {
   "cell_type": "code",
   "execution_count": 24,
   "metadata": {},
   "outputs": [
    {
     "data": {
      "text/plain": [
       "<matplotlib.axes._subplots.AxesSubplot at 0x1f417256048>"
      ]
     },
     "execution_count": 24,
     "metadata": {},
     "output_type": "execute_result"
    },
    {
     "data": {
      "image/png": "[encoded data removed]",
      "text/plain": [
       "<Figure size 432x288 with 1 Axes>"
      ]
     },
     "metadata": {
      "needs_background": "light"
     },
     "output_type": "display_data"
    }
   ],
   "source": [
    "train.segment.value_counts().plot.bar()"
   ]
  },
  {
   "cell_type": "code",
   "execution_count": 7,
   "metadata": {},
   "outputs": [],
   "source": [
    "y = train.iloc[ :,5].values\n",
    "train.drop(['case_count','branch_id','state','zone'],axis=1, inplace=True)"
   ]
  },
  {
   "cell_type": "code",
   "execution_count": 25,
   "metadata": {},
   "outputs": [],
   "source": [
    "x = train.iloc[ : ,1: ].values"
   ]
  },
  {
   "cell_type": "code",
   "execution_count": 144,
   "metadata": {},
   "outputs": [],
   "source": [
    "def mean_absolute_percentage_error(y_true, y_pred): \n",
    "    y_true, y_pred = np.array(y_true), np.array(y_pred)\n",
    "    return np.mean(np.abs((y_true - y_pred) / y_true)) * 100"
   ]
  },
  {
   "cell_type": "code",
   "execution_count": 26,
   "metadata": {},
   "outputs": [],
   "source": [
    "from sklearn.ensemble import RandomForestRegressor\n",
    "from sklearn.model_selection import train_test_split\n",
    "\n",
    "x_train, x_test, y_train, y_test = train_test_split(x, y, test_size=0.3, random_state=0)\n",
    "\n",
    "clf = RandomForestRegressor()\n",
    "clf.fit(x_train, y_train)\n",
    "y_pred = clf.predict(x_test)\n"
   ]
  },
  {
   "cell_type": "code",
   "execution_count": 27,
   "metadata": {},
   "outputs": [
    {
     "data": {
      "text/plain": [
       "179.54257090067742"
      ]
     },
     "execution_count": 27,
     "metadata": {},
     "output_type": "execute_result"
    }
   ],
   "source": [
    "# y_pred.shape\n",
    "# mean_absolute_percentage_error(y_test, y_pred)\n",
    "from sklearn.metrics import mean_absolute_error\n",
    "mean_absolute_error(y_test, y_pred)"
   ]
  },
  {
   "cell_type": "code",
   "execution_count": 125,
   "metadata": {
    "scrolled": true
   },
   "outputs": [
    {
     "name": "stdout",
     "output_type": "stream",
     "text": [
      "Unique feature in application_date is 844\n",
      "Unique feature in segment is 2\n",
      "Unique feature in branch_id is 26\n",
      "Unique feature in state is 20\n",
      "Unique feature in zone is 5\n",
      "Unique feature in year is 3\n",
      "Unique feature in month is 12\n",
      "Unique feature in day is 31\n",
      "Unique feature in week is 52\n",
      "Unique feature in weekend is 2\n",
      "Unique feature in holiday is 2\n"
     ]
    }
   ],
   "source": [
    "for each in train.columns:\n",
    "    print(\"Unique feature in {} is {}\".format(each, train[each].nunique()))"
   ]
  },
  {
   "cell_type": "code",
   "execution_count": 20,
   "metadata": {},
   "outputs": [
    {
     "data": {
      "text/plain": [
       "array([2017, 2018, 2019], dtype=int64)"
      ]
     },
     "execution_count": 20,
     "metadata": {},
     "output_type": "execute_result"
    }
   ],
   "source": [
    "train['year'].unique()"
   ]
  },
  {
   "cell_type": "code",
   "execution_count": 21,
   "metadata": {},
   "outputs": [
    {
     "data": {
      "text/html": [
       "<div>\n",
       "<style scoped>\n",
       "    .dataframe tbody tr th:only-of-type {\n",
       "        vertical-align: middle;\n",
       "    }\n",
       "\n",
       "    .dataframe tbody tr th {\n",
       "        vertical-align: top;\n",
       "    }\n",
       "\n",
       "    .dataframe thead th {\n",
       "        text-align: right;\n",
       "    }\n",
       "</style>\n",
       "<table border=\"1\" class=\"dataframe\">\n",
       "  <thead>\n",
       "    <tr style=\"text-align: right;\">\n",
       "      <th></th>\n",
       "      <th>Date</th>\n",
       "      <th>Holiday_name</th>\n",
       "    </tr>\n",
       "  </thead>\n",
       "  <tbody>\n",
       "    <tr>\n",
       "      <th>0</th>\n",
       "      <td>2017-01-01</td>\n",
       "      <td>New Year's Day</td>\n",
       "    </tr>\n",
       "    <tr>\n",
       "      <th>1</th>\n",
       "      <td>2017-01-14</td>\n",
       "      <td>Makar Sankranti / Pongal</td>\n",
       "    </tr>\n",
       "    <tr>\n",
       "      <th>2</th>\n",
       "      <td>2017-01-26</td>\n",
       "      <td>Republic Day</td>\n",
       "    </tr>\n",
       "    <tr>\n",
       "      <th>3</th>\n",
       "      <td>2017-02-24</td>\n",
       "      <td>Maha Shivaratri</td>\n",
       "    </tr>\n",
       "    <tr>\n",
       "      <th>4</th>\n",
       "      <td>2017-03-13</td>\n",
       "      <td>Holi</td>\n",
       "    </tr>\n",
       "  </tbody>\n",
       "</table>\n",
       "</div>"
      ],
      "text/plain": [
       "         Date              Holiday_name\n",
       "0  2017-01-01            New Year's Day\n",
       "1  2017-01-14  Makar Sankranti / Pongal\n",
       "2  2017-01-26              Republic Day\n",
       "3  2017-02-24           Maha Shivaratri\n",
       "4  2017-03-13                      Holi"
      ]
     },
     "execution_count": 21,
     "metadata": {},
     "output_type": "execute_result"
    }
   ],
   "source": []
  },
  {
   "cell_type": "code",
   "execution_count": 28,
   "metadata": {},
   "outputs": [],
   "source": [
    "import copy\n",
    "submission = copy.deepcopy(test)"
   ]
  },
  {
   "cell_type": "code",
   "execution_count": 29,
   "metadata": {},
   "outputs": [],
   "source": [
    "test.drop('id', axis=1, inplace=True)"
   ]
  },
  {
   "cell_type": "code",
   "execution_count": 30,
   "metadata": {},
   "outputs": [
    {
     "name": "stderr",
     "output_type": "stream",
     "text": [
      "c:\\users\\navneet.a.arya\\appdata\\local\\programs\\python\\python37\\lib\\site-packages\\ipykernel_launcher.py:13: SettingWithCopyWarning: \n",
      "A value is trying to be set on a copy of a slice from a DataFrame\n",
      "\n",
      "See the caveats in the documentation: http://pandas.pydata.org/pandas-docs/stable/user_guide/indexing.html#returning-a-view-versus-a-copy\n",
      "  del sys.path[0]\n",
      "c:\\users\\navneet.a.arya\\appdata\\local\\programs\\python\\python37\\lib\\site-packages\\ipykernel_launcher.py:14: SettingWithCopyWarning: \n",
      "A value is trying to be set on a copy of a slice from a DataFrame\n",
      "\n",
      "See the caveats in the documentation: http://pandas.pydata.org/pandas-docs/stable/user_guide/indexing.html#returning-a-view-versus-a-copy\n",
      "  \n",
      "c:\\users\\navneet.a.arya\\appdata\\local\\programs\\python\\python37\\lib\\site-packages\\ipykernel_launcher.py:15: SettingWithCopyWarning: \n",
      "A value is trying to be set on a copy of a slice from a DataFrame\n",
      "\n",
      "See the caveats in the documentation: http://pandas.pydata.org/pandas-docs/stable/user_guide/indexing.html#returning-a-view-versus-a-copy\n",
      "  from ipykernel import kernelapp as app\n",
      "c:\\users\\navneet.a.arya\\appdata\\local\\programs\\python\\python37\\lib\\site-packages\\ipykernel_launcher.py:16: SettingWithCopyWarning: \n",
      "A value is trying to be set on a copy of a slice from a DataFrame\n",
      "\n",
      "See the caveats in the documentation: http://pandas.pydata.org/pandas-docs/stable/user_guide/indexing.html#returning-a-view-versus-a-copy\n",
      "  app.launch_new_instance()\n",
      "c:\\users\\navneet.a.arya\\appdata\\local\\programs\\python\\python37\\lib\\site-packages\\ipykernel_launcher.py:18: SettingWithCopyWarning: \n",
      "A value is trying to be set on a copy of a slice from a DataFrame\n",
      "\n",
      "See the caveats in the documentation: http://pandas.pydata.org/pandas-docs/stable/user_guide/indexing.html#returning-a-view-versus-a-copy\n",
      "c:\\users\\navneet.a.arya\\appdata\\local\\programs\\python\\python37\\lib\\site-packages\\ipykernel_launcher.py:20: SettingWithCopyWarning: \n",
      "A value is trying to be set on a copy of a slice from a DataFrame\n",
      "\n",
      "See the caveats in the documentation: http://pandas.pydata.org/pandas-docs/stable/user_guide/indexing.html#returning-a-view-versus-a-copy\n",
      "c:\\users\\navneet.a.arya\\appdata\\local\\programs\\python\\python37\\lib\\site-packages\\ipykernel_launcher.py:24: SettingWithCopyWarning: \n",
      "A value is trying to be set on a copy of a slice from a DataFrame\n",
      "\n",
      "See the caveats in the documentation: http://pandas.pydata.org/pandas-docs/stable/user_guide/indexing.html#returning-a-view-versus-a-copy\n"
     ]
    },
    {
     "data": {
      "text/html": [
       "<div>\n",
       "<style scoped>\n",
       "    .dataframe tbody tr th:only-of-type {\n",
       "        vertical-align: middle;\n",
       "    }\n",
       "\n",
       "    .dataframe tbody tr th {\n",
       "        vertical-align: top;\n",
       "    }\n",
       "\n",
       "    .dataframe thead th {\n",
       "        text-align: right;\n",
       "    }\n",
       "</style>\n",
       "<table border=\"1\" class=\"dataframe\">\n",
       "  <thead>\n",
       "    <tr style=\"text-align: right;\">\n",
       "      <th></th>\n",
       "      <th>application_date</th>\n",
       "      <th>segment</th>\n",
       "      <th>year</th>\n",
       "      <th>month</th>\n",
       "      <th>day</th>\n",
       "      <th>week</th>\n",
       "      <th>weekend</th>\n",
       "      <th>holiday</th>\n",
       "    </tr>\n",
       "  </thead>\n",
       "  <tbody>\n",
       "    <tr>\n",
       "      <th>0</th>\n",
       "      <td>2019-07-06</td>\n",
       "      <td>1</td>\n",
       "      <td>2019</td>\n",
       "      <td>7</td>\n",
       "      <td>6</td>\n",
       "      <td>27</td>\n",
       "      <td>1</td>\n",
       "      <td>0</td>\n",
       "    </tr>\n",
       "    <tr>\n",
       "      <th>1</th>\n",
       "      <td>2019-07-07</td>\n",
       "      <td>1</td>\n",
       "      <td>2019</td>\n",
       "      <td>7</td>\n",
       "      <td>7</td>\n",
       "      <td>27</td>\n",
       "      <td>0</td>\n",
       "      <td>0</td>\n",
       "    </tr>\n",
       "    <tr>\n",
       "      <th>2</th>\n",
       "      <td>2019-07-08</td>\n",
       "      <td>1</td>\n",
       "      <td>2019</td>\n",
       "      <td>7</td>\n",
       "      <td>8</td>\n",
       "      <td>28</td>\n",
       "      <td>0</td>\n",
       "      <td>0</td>\n",
       "    </tr>\n",
       "    <tr>\n",
       "      <th>3</th>\n",
       "      <td>2019-07-09</td>\n",
       "      <td>1</td>\n",
       "      <td>2019</td>\n",
       "      <td>7</td>\n",
       "      <td>9</td>\n",
       "      <td>28</td>\n",
       "      <td>0</td>\n",
       "      <td>0</td>\n",
       "    </tr>\n",
       "    <tr>\n",
       "      <th>4</th>\n",
       "      <td>2019-07-10</td>\n",
       "      <td>1</td>\n",
       "      <td>2019</td>\n",
       "      <td>7</td>\n",
       "      <td>10</td>\n",
       "      <td>28</td>\n",
       "      <td>0</td>\n",
       "      <td>0</td>\n",
       "    </tr>\n",
       "  </tbody>\n",
       "</table>\n",
       "</div>"
      ],
      "text/plain": [
       "  application_date  segment  year  month  day  week  weekend  holiday\n",
       "0       2019-07-06        1  2019      7    6    27        1        0\n",
       "1       2019-07-07        1  2019      7    7    27        0        0\n",
       "2       2019-07-08        1  2019      7    8    28        0        0\n",
       "3       2019-07-09        1  2019      7    9    28        0        0\n",
       "4       2019-07-10        1  2019      7   10    28        0        0"
      ]
     },
     "execution_count": 30,
     "metadata": {},
     "output_type": "execute_result"
    }
   ],
   "source": [
    "test['year'] = 1\n",
    "test['month'] = 1\n",
    "test['day'] = 1\n",
    "test['week'] = 1\n",
    "test['weekend'] = 1\n",
    "test['holiday'] = 0\n",
    "import datetime\n",
    "# Some data engineering on datetime\n",
    "for i in range(len(test)):\n",
    "    o_date  = test['application_date'][i]\n",
    "    date = datetime.datetime.strptime(o_date, '%Y-%m-%d')\n",
    "    dt = date.isocalendar()\n",
    "    test['year'][i] = dt[0]\n",
    "    test['month'][i] = date.month\n",
    "    test['day'][i] = date.day\n",
    "    test['week'][i] = dt[1]\n",
    "    if dt[2] == 5 or dt[2] == 6:\n",
    "        test['weekend'][i] = 1\n",
    "    else:\n",
    "        test['weekend'][i] = 0\n",
    "    for j in range(len(holiday)):\n",
    "        holi_date = holiday['Date'][j]\n",
    "        if(o_date == holi_date):\n",
    "            test['holiday'][i]=1\n",
    "test.head()"
   ]
  },
  {
   "cell_type": "code",
   "execution_count": 31,
   "metadata": {},
   "outputs": [],
   "source": [
    "col =['segment', 'year', 'month', 'day', 'week', 'weekend', 'holiday']\n",
    "for each in col:\n",
    "    col_dic = train[each].value_counts(normalize=True)\n",
    "    for k, v in col_dic.items():\n",
    "        test[each].replace(k, v, inplace=True)\n",
    "test.drop('application_date', axis=1, inplace=True)"
   ]
  },
  {
   "cell_type": "code",
   "execution_count": 32,
   "metadata": {},
   "outputs": [],
   "source": [
    "y_pred = clf.predict(test)"
   ]
  },
  {
   "cell_type": "code",
   "execution_count": 33,
   "metadata": {},
   "outputs": [
    {
     "data": {
      "text/html": [
       "<div>\n",
       "<style scoped>\n",
       "    .dataframe tbody tr th:only-of-type {\n",
       "        vertical-align: middle;\n",
       "    }\n",
       "\n",
       "    .dataframe tbody tr th {\n",
       "        vertical-align: top;\n",
       "    }\n",
       "\n",
       "    .dataframe thead th {\n",
       "        text-align: right;\n",
       "    }\n",
       "</style>\n",
       "<table border=\"1\" class=\"dataframe\">\n",
       "  <thead>\n",
       "    <tr style=\"text-align: right;\">\n",
       "      <th></th>\n",
       "      <th>id</th>\n",
       "      <th>application_date</th>\n",
       "      <th>segment</th>\n",
       "    </tr>\n",
       "  </thead>\n",
       "  <tbody>\n",
       "    <tr>\n",
       "      <th>0</th>\n",
       "      <td>1</td>\n",
       "      <td>2019-07-06</td>\n",
       "      <td>1</td>\n",
       "    </tr>\n",
       "    <tr>\n",
       "      <th>1</th>\n",
       "      <td>2</td>\n",
       "      <td>2019-07-07</td>\n",
       "      <td>1</td>\n",
       "    </tr>\n",
       "    <tr>\n",
       "      <th>2</th>\n",
       "      <td>3</td>\n",
       "      <td>2019-07-08</td>\n",
       "      <td>1</td>\n",
       "    </tr>\n",
       "    <tr>\n",
       "      <th>3</th>\n",
       "      <td>4</td>\n",
       "      <td>2019-07-09</td>\n",
       "      <td>1</td>\n",
       "    </tr>\n",
       "    <tr>\n",
       "      <th>4</th>\n",
       "      <td>5</td>\n",
       "      <td>2019-07-10</td>\n",
       "      <td>1</td>\n",
       "    </tr>\n",
       "  </tbody>\n",
       "</table>\n",
       "</div>"
      ],
      "text/plain": [
       "   id application_date  segment\n",
       "0   1       2019-07-06        1\n",
       "1   2       2019-07-07        1\n",
       "2   3       2019-07-08        1\n",
       "3   4       2019-07-09        1\n",
       "4   5       2019-07-10        1"
      ]
     },
     "execution_count": 33,
     "metadata": {},
     "output_type": "execute_result"
    }
   ],
   "source": [
    "submission.head()"
   ]
  },
  {
   "cell_type": "code",
   "execution_count": 34,
   "metadata": {},
   "outputs": [],
   "source": [
    "submission['case_count'] = y_pred\n",
    "submission.to_csv('output1.csv',index=False)"
   ]
  },
  {
   "cell_type": "code",
   "execution_count": 93,
   "metadata": {},
   "outputs": [],
   "source": [
    "# train.drop(['branch_id','state','zone'], axis=1, inplace=True)\n",
    "from sklearn.preprocessing import LabelEncoder\n",
    "# train.drop('application_date',axis=1, inplace=True)\n",
    "le = LabelEncoder()\n",
    "train['state'] = le.fit_transform(train['state'])\n",
    "train['zone'] = le.fit_transform(train['zone'])"
   ]
  },
  {
   "cell_type": "code",
   "execution_count": 111,
   "metadata": {},
   "outputs": [
    {
     "data": {
      "text/plain": [
       "80402"
      ]
     },
     "execution_count": 111,
     "metadata": {},
     "output_type": "execute_result"
    }
   ],
   "source": [
    "len(y)\n",
    "np.unique()\n",
    "value_counts(normalize=True)"
   ]
  },
  {
   "cell_type": "code",
   "execution_count": 22,
   "metadata": {},
   "outputs": [],
   "source": [
    "# col =['segment', 'year', 'month', 'day', 'week', 'weekend', 'holiday']\n",
    "# for each in col:\n",
    "#     col_dic = train[each].value_counts(normalize=True)\n",
    "#     for k, v in col_dic.items():\n",
    "#         train[each].replace(k, v, inplace=True)"
   ]
  }
 ],
 "metadata": {
  "kernelspec": {
   "display_name": "Python 3",
   "language": "python",
   "name": "python3"
  },
  "language_info": {
   "codemirror_mode": {
    "name": "ipython",
    "version": 3
   },
   "file_extension": ".py",
   "mimetype": "text/x-python",
   "name": "python",
   "nbconvert_exporter": "python",
   "pygments_lexer": "ipython3",
   "version": "3.7.5"
  }
 },
 "nbformat": 4,
 "nbformat_minor": 2
}
