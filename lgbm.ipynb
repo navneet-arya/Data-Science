{
 "cells": [
  {
   "cell_type": "code",
   "execution_count": 1,
   "metadata": {},
   "outputs": [],
   "source": [
    "# importing lib \n",
    "\n",
    "import pandas as pd\n",
    "import numpy as np\n",
    "import seaborn as sns\n",
    "import matplotlib.pyplot as plt\n",
    "%matplotlib inline\n",
    "import warnings\n",
    "warnings.filterwarnings(\"ignore\")\n",
    "from sklearn.metrics import accuracy_score"
   ]
  },
  {
   "cell_type": "code",
   "execution_count": 2,
   "metadata": {},
   "outputs": [],
   "source": [
    "# Reading the data\n",
    "train = pd.read_csv(\"train.csv\")\n",
    "test = pd.read_csv(\"test.csv\")"
   ]
  },
  {
   "cell_type": "code",
   "execution_count": 3,
   "metadata": {},
   "outputs": [],
   "source": [
    "train['Employment.Type'].fillna('Unemployed', inplace = True)\n",
    "test['Employment.Type'].fillna('Unemployed', inplace = True)"
   ]
  },
  {
   "cell_type": "code",
   "execution_count": 4,
   "metadata": {},
   "outputs": [],
   "source": [
    "unique_id = test['UniqueID']\n",
    "y_train = train.iloc[:, -1]\n",
    "\n",
    "# let's delete the last column from the dataset to  concat train and test\n",
    "train = train.drop(['loan_default'], axis = 1)\n",
    "data = pd.concat([train, test], axis = 0)"
   ]
  },
  {
   "cell_type": "code",
   "execution_count": 5,
   "metadata": {},
   "outputs": [],
   "source": [
    "import re\n",
    "def cal_age(file,col_name):\n",
    "    date=[]\n",
    "    for each in file[col_name]:   # 'Date.of.Birth'\n",
    "        w=re.findall(r'\\d+',each)\n",
    "        old_age='19'+w[2]\n",
    "        age=2018-int(old_age)\n",
    "        date.append(age)\n",
    "    file['Age']=date\n",
    "cal_age(data,'Date.of.Birth')\n",
    "\n",
    "def cal_year(file,col_name):\n",
    "    clean=[]\n",
    "    for each in file[col_name]:  # 'AVERAGE.ACCT.AGE'\n",
    "        w=re.findall(r'\\d+',each)\n",
    "        month=int(w[0])+int(w[1])/12\n",
    "        clean.append(month)\n",
    "    file[col_name]=clean\n",
    "\n",
    "cal_year(data,'AVERAGE.ACCT.AGE')\n",
    "cal_year(data,'CREDIT.HISTORY.LENGTH')"
   ]
  },
  {
   "cell_type": "code",
   "execution_count": 6,
   "metadata": {},
   "outputs": [],
   "source": [
    "from sklearn.preprocessing import LabelEncoder\n",
    "data=data.apply(LabelEncoder().fit_transform)"
   ]
  },
  {
   "cell_type": "code",
   "execution_count": 7,
   "metadata": {},
   "outputs": [
    {
     "name": "stdout",
     "output_type": "stream",
     "text": [
      "Shape of train : (233154, 41)\n",
      "Shape of test : (112392, 41)\n"
     ]
    }
   ],
   "source": [
    "x_train = data.iloc[:233154,:]\n",
    "x_test = data.iloc[233154:,:]\n",
    "\n",
    "# checking the shape of train and test\n",
    "print(\"Shape of train :\", x_train.shape)\n",
    "print(\"Shape of test :\", x_test.shape)"
   ]
  },
  {
   "cell_type": "code",
   "execution_count": 8,
   "metadata": {},
   "outputs": [],
   "source": [
    "# # applying SMOTE\n",
    "\n",
    "# from imblearn.over_sampling import SMOTE\n",
    "\n",
    "# x_resample, y_resample = SMOTE().fit_sample(x_train, y_train.values.ravel()) \n",
    "\n",
    "# # checking the shape of x_resample and y_resample\n",
    "# print(\"Shape of x:\", x_resample.shape)\n",
    "# print(\"Shape of y:\", y_resample.shape)"
   ]
  },
  {
   "cell_type": "code",
   "execution_count": 9,
   "metadata": {},
   "outputs": [
    {
     "name": "stdout",
     "output_type": "stream",
     "text": [
      "(186523, 41)\n",
      "(186523,)\n",
      "(46631, 41)\n",
      "(46631,)\n"
     ]
    }
   ],
   "source": [
    "# train and valid sets from train\n",
    "from sklearn.model_selection import train_test_split\n",
    "\n",
    "x_train, x_valid, y_train, y_valid = train_test_split(x_train, y_train, test_size = 0.2, random_state = 0)\n",
    "\n",
    "# checking the shapes\n",
    "print(x_train.shape)\n",
    "print(y_train.shape)\n",
    "print(x_valid.shape)\n",
    "print(y_valid.shape)"
   ]
  },
  {
   "cell_type": "code",
   "execution_count": 10,
   "metadata": {},
   "outputs": [],
   "source": [
    "# applying standardization\n",
    "\n",
    "# standardization\n",
    "\n",
    "from sklearn.preprocessing import StandardScaler\n",
    "\n",
    "sc = StandardScaler()\n",
    "x_train = sc.fit_transform(x_train)\n",
    "x_valid = sc.transform(x_valid)\n",
    "x_test = sc.transform(x_test)\n"
   ]
  },
  {
   "cell_type": "code",
   "execution_count": 11,
   "metadata": {},
   "outputs": [
    {
     "name": "stdout",
     "output_type": "stream",
     "text": [
      "0.7858935043211598\n"
     ]
    }
   ],
   "source": [
    "from lightgbm import LGBMClassifier\n",
    "model_lgb = LGBMClassifier()\n",
    "model_lgb.fit(x_train, y_train)\n",
    "\n",
    "y_pred = model_lgb.predict(x_valid)\n",
    "\n",
    "print(accuracy_score(y_valid,y_pred))"
   ]
  }
 ],
 "metadata": {
  "kernelspec": {
   "display_name": "Python 3",
   "language": "python",
   "name": "python3"
  },
  "language_info": {
   "codemirror_mode": {
    "name": "ipython",
    "version": 3
   },
   "file_extension": ".py",
   "mimetype": "text/x-python",
   "name": "python",
   "nbconvert_exporter": "python",
   "pygments_lexer": "ipython3",
   "version": "3.5.2"
  }
 },
 "nbformat": 4,
 "nbformat_minor": 2
}
